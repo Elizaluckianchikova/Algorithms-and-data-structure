{
  "nbformat": 4,
  "nbformat_minor": 0,
  "metadata": {
    "colab": {
      "provenance": [],
      "authorship_tag": "ABX9TyM62yF0WAnsKu130xkN9utF",
      "include_colab_link": true
    },
    "kernelspec": {
      "name": "python3",
      "display_name": "Python 3"
    },
    "language_info": {
      "name": "python"
    }
  },
  "cells": [
    {
      "cell_type": "markdown",
      "metadata": {
        "id": "view-in-github",
        "colab_type": "text"
      },
      "source": [
        "<a href=\"https://colab.research.google.com/github/Elizaluckianchikova/Algorithms-and-data-structure/blob/main/%D0%97%D0%B0%D0%B4%D0%B0%D1%87%D0%B0_%D0%BE_%D1%84%D0%B5%D1%80%D0%B7%D1%8F%D1%85.ipynb\" target=\"_parent\"><img src=\"https://colab.research.google.com/assets/colab-badge.svg\" alt=\"Open In Colab\"/></a>"
      ]
    },
    {
      "cell_type": "markdown",
      "source": [
        "**Задача о 8 ферзях**\n",
        "\n",
        "Задача о восьми ферзях - это классическая задача на логику, в которой нужно разместить восемь ферзей на доске таким образом, чтобы ни один из них не находился под боем другого."
      ],
      "metadata": {
        "id": "lwAkk49typhP"
      }
    },
    {
      "cell_type": "code",
      "source": [
        "def place_queens(n, queens):\n",
        "    if n == 8:\n",
        "        for row in queens:\n",
        "            for col in row:\n",
        "                print(col, end=\" \")\n",
        "            print()\n",
        "        return\n",
        "\n",
        "    for col in range(n, -1, -1):\n",
        "        queens[n - 1][col] = 1\n",
        "        if not place_queens(n + 1, queens):\n",
        "            queens[n - 1][col] = 0\n",
        "\n",
        "\n",
        "def solve_n_queens(n):\n",
        "    queens = [[0] * n for _ in range(n)]\n",
        "    place_queens(0, queens)\n",
        "\n",
        "solve_n_queens(8)"
      ],
      "metadata": {
        "id": "KwRLymgHyrOp"
      },
      "execution_count": null,
      "outputs": []
    }
  ]
}