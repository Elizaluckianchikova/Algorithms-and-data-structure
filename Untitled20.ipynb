{
  "nbformat": 4,
  "nbformat_minor": 0,
  "metadata": {
    "colab": {
      "provenance": [],
      "authorship_tag": "ABX9TyOvhNe72R+8vRj2tuWmL4aa",
      "include_colab_link": true
    },
    "kernelspec": {
      "name": "python3",
      "display_name": "Python 3"
    },
    "language_info": {
      "name": "python"
    }
  },
  "cells": [
    {
      "cell_type": "markdown",
      "metadata": {
        "id": "view-in-github",
        "colab_type": "text"
      },
      "source": [
        "<a href=\"https://colab.research.google.com/github/Elizaluckianchikova/Algorithms-and-data-structure/blob/main/Untitled20.ipynb\" target=\"_parent\"><img src=\"https://colab.research.google.com/assets/colab-badge.svg\" alt=\"Open In Colab\"/></a>"
      ]
    },
    {
      "cell_type": "markdown",
      "source": [
        "**Входной бинарное дерево**"
      ],
      "metadata": {
        "id": "VE1GN7JOmeQz"
      }
    },
    {
      "cell_type": "code",
      "source": [
        "class TreeNode:\n",
        "    pass"
      ],
      "metadata": {
        "id": "5xJ-uAiQmfrC"
      },
      "execution_count": 2,
      "outputs": []
    },
    {
      "cell_type": "code",
      "source": [
        "class TreeNode:\n",
        "    def __init__(self, value=0, left=None, right=None): #входной бинарного дерева\n",
        "        self.value = value\n",
        "        self.left = left\n",
        "        self.right = right\n",
        "\n",
        "def inorder_traversal(root):  #функция для обхода дерева\n",
        "    result = []\n",
        "    if root:\n",
        "        result += inorder_traversal(root.left)\n",
        "        result.append(root.value)\n",
        "        result += inorder_traversal(root.right)\n",
        "    return result\n",
        "\n",
        "# Пример использования\n",
        "# Создаем дерево\n",
        "root = TreeNode(1, TreeNode(2), TreeNode(3, TreeNode(4), TreeNode(5)))\n",
        "# Обходим дерево в глубину (inorder)\n",
        "print(inorder_traversal(root))  # Вывод: [2, 1, 4, 3, 5]\n"
      ],
      "metadata": {
        "colab": {
          "base_uri": "https://localhost:8080/"
        },
        "id": "9z_aDgy2m8Fr",
        "outputId": "e3834ec7-9bee-433b-e56f-32c3ddd98953"
      },
      "execution_count": 5,
      "outputs": [
        {
          "output_type": "stream",
          "name": "stdout",
          "text": [
            "[2, 1, 4, 3, 5]\n"
          ]
        }
      ]
    },
    {
      "cell_type": "markdown",
      "source": [
        "**Рекурсивная функция для преобразования дерева**"
      ],
      "metadata": {
        "id": "yC_Sag6iohB8"
      }
    },
    {
      "cell_type": "code",
      "source": [
        "class TreeNode:\n",
        "    def __init__(self, value=0, left=None, right=None):\n",
        "        self.value = value\n",
        "        self.left = left\n",
        "        self.right = right\n",
        "\n",
        "def invert_tree(root):\n",
        "    if root:\n",
        "        # Рекурсивно меняем местами левое и правое поддерево каждого узла\n",
        "        root.left, root.right = invert_tree(root.right), invert_tree(root.left)\n",
        "    return root\n",
        "\n",
        "# Пример использования\n",
        "# Создаем исходное дерево\n",
        "original_tree = TreeNode(1, TreeNode(2), TreeNode(3, TreeNode(4), TreeNode(5)))\n",
        "# Переделываем дерево с помощью рекурсивной функции\n",
        "inverted_tree = invert_tree(original_tree)\n",
        "\n",
        "# Функция для обхода в глубину (inorder)\n",
        "def inorder_traversal(root):\n",
        "    result = []\n",
        "    if root:\n",
        "        result += inorder_traversal(root.left)\n",
        "        result.append(root.value)\n",
        "        result += inorder_traversal(root.right)\n",
        "    return result\n",
        "\n",
        "# Обходим исходное дерево в глубину (inorder)\n",
        "print(\"Исходное дерево:\", inorder_traversal(original_tree))  # Вывод: [2, 1, 4, 3, 5]\n",
        "# Обходим переделанное дерево в глубину (inorder)\n",
        "print(\"Переделанное дерево:\", inorder_traversal(inverted_tree))  # Вывод: [5, 3, 4, 1, 2]\n"
      ],
      "metadata": {
        "colab": {
          "base_uri": "https://localhost:8080/"
        },
        "id": "PZ_-4q-3ojbP",
        "outputId": "114e4e34-3c08-4404-a414-ff8a8872cb4d"
      },
      "execution_count": 7,
      "outputs": [
        {
          "output_type": "stream",
          "name": "stdout",
          "text": [
            "Исходное дерево: [5, 3, 4, 1, 2]\n",
            "Переделанное дерево: [5, 3, 4, 1, 2]\n"
          ]
        }
      ]
    }
  ]
}