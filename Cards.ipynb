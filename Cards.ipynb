{
  "nbformat": 4,
  "nbformat_minor": 0,
  "metadata": {
    "colab": {
      "provenance": [],
      "authorship_tag": "ABX9TyPynw9+xL53GNEjBu3YDknI",
      "include_colab_link": true
    },
    "kernelspec": {
      "name": "python3",
      "display_name": "Python 3"
    },
    "language_info": {
      "name": "python"
    }
  },
  "cells": [
    {
      "cell_type": "markdown",
      "metadata": {
        "id": "view-in-github",
        "colab_type": "text"
      },
      "source": [
        "<a href=\"https://colab.research.google.com/github/Elizaluckianchikova/Algorithms-and-data-structure/blob/main/Cards.ipynb\" target=\"_parent\"><img src=\"https://colab.research.google.com/assets/colab-badge.svg\" alt=\"Open In Colab\"/></a>"
      ]
    },
    {
      "cell_type": "markdown",
      "source": [
        "**Задача \"Карты профессора Трелони\"**\n",
        "\n",
        "Профессору Трелони надоело, что её предсказания обычно негативные, поэтому она решила попробовать гадать на недавно появившейся новинке - **Численные Карты Таро**.Чтобы её прогнозы были как можно более позитивные, она хочет выбрать для этого самую подходящую колоду.Однако  она совершенно не понимает, какую следует взять, поэтому профессор Трелони обратилась за помощью к вам.\n",
        "Известно, что гадание на Численных Картах Таро выглядит следующим образом. Каждая карта соотвествует некоторому целому числу в диапазоне от 1 до M(1<=M <= 50000).При этом значении карт в одной колоде могут повторяться. Профессор Трелони три раза проделывает следующий трюк . Она вытягивает случайную карту из колоды, а потом записывает её значение в блокнот для предсказаний. Потом, чтобы не испортить магические свойства колоды, она возвращает карты обратно.После того , как профессор выпишет три числа, она делает свое предсказание, основываясь на сумме наибольшего и наименьшего из них.Известно, что чем больше сумма, тем лучше получается предсказание, поэтому вам необходимо найти колоду , у которой математическое ожидание этой величины будет наибольшим.\n",
        "\n",
        "**Формат ввода**\n",
        "\n",
        "Первая  строка содержит число N (0<N<=20) - количество колод. На следующих 2n строках вводятся сами колоды.На строчке с номеров 2k написано натуральное число nk(0<nk<=100000) - размер колоды с номером k. На строчке с номером 2k+1 через пробел вводятся nk чисел -сами карты.Карты в колоде не отсортированы ( могут идти впроизвольном порядке).\n",
        "\n",
        "**Формат вывода**\n",
        "\n",
        "Необходиом вывести два числа через пробел - номер колоды, которая лучше всего подойдет профессору Трелони и математическое ожидание для нее ( с точностью до 10^-4 ). Если таких несколько , выведите колоду с наименьшим номером.\n"
      ],
      "metadata": {
        "id": "XPxaPRJE8JD1"
      }
    },
    {
      "cell_type": "code",
      "source": [
        "class Console:\n",
        "    def __enter__(self):\n",
        "        return self\n",
        "\n",
        "    def __exit__(self, exc_type, exc_val, exc_tb):\n",
        "        pass\n",
        "\n",
        "    def readline(self):\n",
        "        return input()\n",
        "\n",
        "    def write(self, text):\n",
        "        print(text)\n",
        "\n",
        "\n",
        "class Indexed:\n",
        "    def __init__(self, sequence):\n",
        "        self.__sequence = sequence\n",
        "        self.__index = 0\n",
        "\n",
        "    def __iter__(self):\n",
        "        return self\n",
        "\n",
        "    def __next__(self):\n",
        "        index = self.__index\n",
        "        sequence = self.__sequence\n",
        "        if index == len(sequence):\n",
        "            self.__index = 0\n",
        "            raise StopIteration\n",
        "        self.__index += 1\n",
        "        return (sequence[index], index)\n",
        "\n",
        "\n",
        "def analyze_decks(input_stream = Console(),\n",
        "                  output_stream = Console()):\n",
        "    with input_stream:\n",
        "        deck_count = read_int(input_stream)\n",
        "        deck_sums = []\n",
        "        for _ in range(deck_count):\n",
        "            deck_sum = read_deck(input_stream)\n",
        "            deck_sums.append(deck_sum)\n",
        "    with output_stream:\n",
        "        print_max_of(deck_sums, output_stream)\n",
        "\n",
        "\n",
        "def read_int(stream):\n",
        "    repr = stream.readline()\n",
        "    return int(repr)\n",
        "\n",
        "\n",
        "def read_ints(stream):\n",
        "    line = stream.readline()\n",
        "    reprs = line.split()\n",
        "    numbers = []\n",
        "    for repr in reprs:\n",
        "        number = int(repr)\n",
        "        numbers.append(number)\n",
        "    del reprs\n",
        "    return numbers\n",
        "\n",
        "\n",
        "def read_deck(stream):\n",
        "    card_count = read_int(stream)\n",
        "    cards = read_ints(stream)\n",
        "    # assert len(cards) == card_count\n",
        "    card_sum = sum(cards)\n",
        "    del cards\n",
        "    return (card_sum, card_count)\n",
        "\n",
        "\n",
        "def print_max_of(array, stream):\n",
        "    (max_value, max_index) = max_of(array)\n",
        "    stream.write(\"{} {:.5f}\".format(max_index + 1,\n",
        "                                    max_value))\n",
        "\n",
        "\n",
        "def max_of(array):\n",
        "    (max_value, max_index) = (array[0], 0)\n",
        "    for (value, index) in Indexed(array):\n",
        "        (card_sum,     card_count)     = value\n",
        "        (card_sum_max, card_count_max) = max_value\n",
        "        if (card_sum * card_count_max\n",
        "                > card_sum_max * card_count):\n",
        "            (max_value, max_index) = (value, index)\n",
        "    (card_sum_max, card_count_max) = max_value\n",
        "    expected_value = 2 * card_sum_max / card_count_max\n",
        "    return (expected_value, max_index)\n",
        "\n",
        "\n",
        "analyze_decks(open(\"input.txt\", \"r\"),\n",
        "              open(\"output.txt\", \"w\"))"
      ],
      "metadata": {
        "id": "tnSBgwG4HpeI"
      },
      "execution_count": null,
      "outputs": []
    }
  ]
}