{
  "nbformat": 4,
  "nbformat_minor": 0,
  "metadata": {
    "colab": {
      "provenance": [],
      "authorship_tag": "ABX9TyP8xk1h/FWhwR4txNKl/r3/",
      "include_colab_link": true
    },
    "kernelspec": {
      "name": "python3",
      "display_name": "Python 3"
    },
    "language_info": {
      "name": "python"
    }
  },
  "cells": [
    {
      "cell_type": "markdown",
      "metadata": {
        "id": "view-in-github",
        "colab_type": "text"
      },
      "source": [
        "<a href=\"https://colab.research.google.com/github/Elizaluckianchikova/Algorithms-and-data-structure/blob/main/%D0%93%D1%80%D0%B0%D1%84_%D0%B4%D0%B5_%D0%91%D1%80%D1%8E%D0%B8%D0%BD.ipynb\" target=\"_parent\"><img src=\"https://colab.research.google.com/assets/colab-badge.svg\" alt=\"Open In Colab\"/></a>"
      ]
    },
    {
      "cell_type": "markdown",
      "source": [
        "**Задача**\n",
        "\n",
        "Граф де Брюин (или просто де Брюиновский граф) - это направленный граф, используемый в теории графов и компьютерных науках для представления связей между последовательностями символов. Он получает свое название от математика и физика Леонара де Брюина, который впервые предложил его использование в 1946 году.\n",
        "\n",
        "Граф де Брюина состоит из вершин и ребер. Вершины представляют собой последовательности символов, как правило, символы алфавита. Ребра представляют переходы между символами в последовательности. Граф де Брюина позволяет увидеть все возможные комбинации символов, которые могут быть образованы при заданных правилах.\n",
        "\n",
        "Он широко используется в биоинформатике для анализа и сбора данных о последовательностях ДНК и белков. Также граф де Брюина находит применение в компьютерных науках, особенно в задачах анализа текстов и обработки естественного языка.\n",
        "Здесь я хочу его реализовать в #Python"
      ],
      "metadata": {
        "id": "ZnKlWjYP6Eam"
      }
    },
    {
      "cell_type": "code",
      "source": [
        "import networkx as nx\n",
        "\n",
        "# Пример последовательностей ДНК\n",
        "sequences = [\"ATG\", \"TGA\", \"GAT\", \"GAC\", \"ACG\"]\n",
        "\n",
        "# Создание графа де Брюин\n",
        "graph = nx.DiGraph()\n",
        "\n",
        "# Добавление ребер в граф\n",
        "k = 2  # Длина k-мера\n",
        "for seq in sequences:\n",
        "    for i in range(len(seq) - k + 1):\n",
        "        kmer = seq[i:i + k]\n",
        "        if kmer not in graph:\n",
        "            graph.add_node(kmer)\n",
        "        if i < len(seq) - k:\n",
        "            next_kmer = seq[i + 1:i + k + 1]\n",
        "            if not graph.has_edge(kmer, next_kmer):\n",
        "                graph.add_edge(kmer, next_kmer, weight=1)\n",
        "            else:\n",
        "                graph[kmer][next_kmer]['weight'] += 1\n",
        "\n",
        "# Визуализация графа\n",
        "pos = nx.spring_layout(graph)\n",
        "nx.draw(graph, pos, with_labels=True, node_color='lightblue', edge_color='grey', arrowsize=20)\n",
        "labels = nx.get_edge_attributes(graph, 'weight')\n",
        "nx.draw_networkx_edge_labels(graph, pos, edge_labels=labels)\n",
        "\n",
        "# Отображение графа\n",
        "plt.show()"
      ],
      "metadata": {
        "id": "BgMUDd3D6iy9"
      },
      "execution_count": null,
      "outputs": []
    },
    {
      "cell_type": "code",
      "source": [
        "import networkx as nx\n",
        "import matplotlib.pyplot as plt\n",
        "\n",
        "# Заданные последовательности ДНК\n",
        "sequences = [\"ATG\", \"TGA\", \"GAT\", \"GAT\"]\n",
        "\n",
        "# Создание графа де Брюин\n",
        "graph = nx.DiGraph()\n",
        "\n",
        "# Добавление ребер в граф на основе последовательностей ДНК\n",
        "for seq in sequences:\n",
        "    graph.add_edge(seq[:-1], seq[1:])\n",
        "\n",
        "# Визуализация графа\n",
        "pos = nx.spring_layout(graph)\n",
        "nx.draw(graph, pos, with_labels=True, node_color='lightblue', node_size=1500, edge_color='grey', arrowsize=20)\n",
        "plt.show()"
      ],
      "metadata": {
        "id": "UDiPWopU7Vej"
      },
      "execution_count": null,
      "outputs": []
    }
  ]
}