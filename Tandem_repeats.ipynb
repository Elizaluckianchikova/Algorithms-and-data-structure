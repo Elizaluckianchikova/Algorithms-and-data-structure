{
  "nbformat": 4,
  "nbformat_minor": 0,
  "metadata": {
    "colab": {
      "provenance": [],
      "authorship_tag": "ABX9TyO36XSaww6/SeAe4daoC6JY",
      "include_colab_link": true
    },
    "kernelspec": {
      "name": "python3",
      "display_name": "Python 3"
    },
    "language_info": {
      "name": "python"
    }
  },
  "cells": [
    {
      "cell_type": "markdown",
      "metadata": {
        "id": "view-in-github",
        "colab_type": "text"
      },
      "source": [
        "<a href=\"https://colab.research.google.com/github/Elizaluckianchikova/Algorithms-and-data-structure/blob/main/Tandem_repeats.ipynb\" target=\"_parent\"><img src=\"https://colab.research.google.com/assets/colab-badge.svg\" alt=\"Open In Colab\"/></a>"
      ]
    },
    {
      "cell_type": "code",
      "execution_count": 1,
      "metadata": {
        "colab": {
          "base_uri": "https://localhost:8080/"
        },
        "id": "Y3KrdGXCdL2h",
        "outputId": "e953d40a-b01e-4d35-dde3-7a2554422d66"
      },
      "outputs": [
        {
          "output_type": "stream",
          "name": "stdout",
          "text": [
            "Tandem repeat unit: AT, start: 0, end: 6, count: 3\n",
            "Tandem repeat unit: AT, start: 16, end: 22, count: 3\n",
            "Tandem repeat unit: ATA, start: 0, end: 3, count: 1\n",
            "Tandem repeat unit: ATA, start: 16, end: 19, count: 1\n",
            "Tandem repeat unit: ATAT, start: 0, end: 4, count: 1\n",
            "Tandem repeat unit: ATAT, start: 16, end: 20, count: 1\n",
            "Tandem repeat unit: ATATA, start: 0, end: 5, count: 1\n",
            "Tandem repeat unit: ATATA, start: 16, end: 21, count: 1\n",
            "Tandem repeat unit: ATATAT, start: 0, end: 6, count: 1\n",
            "Tandem repeat unit: ATATAT, start: 16, end: 22, count: 1\n",
            "Tandem repeat unit: ATATATC, start: 0, end: 7, count: 1\n",
            "Tandem repeat unit: ATATATCG, start: 0, end: 8, count: 1\n",
            "Tandem repeat unit: ATATATCGC, start: 0, end: 9, count: 1\n",
            "Tandem repeat unit: ATATATCGCG, start: 0, end: 10, count: 1\n",
            "Tandem repeat unit: ATATATCGCGC, start: 0, end: 11, count: 1\n"
          ]
        }
      ],
      "source": [
        "import re\n",
        "\n",
        "def find_tandem_repeats(sequence, min_repeat_length):\n",
        "    tandem_repeats = []\n",
        "    for repeat_length in range(min_repeat_length, len(sequence)//2 + 1):\n",
        "        pattern = f\"({sequence[:repeat_length]})+\"\n",
        "        matches = re.finditer(pattern, sequence)\n",
        "        for match in matches:\n",
        "            repeat_unit = match.group(1)\n",
        "            repeat_start = match.start()\n",
        "            repeat_end = match.end()\n",
        "            repeat_count = (repeat_end - repeat_start) // len(repeat_unit)\n",
        "            tandem_repeats.append((repeat_unit, repeat_start, repeat_end, repeat_count))\n",
        "    return tandem_repeats\n",
        "\n",
        "# Пример использования:\n",
        "dna_sequence = \"ATATATCGCGCGCGCGATATAT\"\n",
        "min_repeat_length = 2\n",
        "tandem_repeats = find_tandem_repeats(dna_sequence, min_repeat_length)\n",
        "for repeat in tandem_repeats:\n",
        "    print(f\"Tandem repeat unit: {repeat[0]}, start: {repeat[1]}, end: {repeat[2]}, count: {repeat[3]}\")\n"
      ]
    }
  ]
}