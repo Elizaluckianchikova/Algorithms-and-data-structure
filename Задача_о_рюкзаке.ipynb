{
  "nbformat": 4,
  "nbformat_minor": 0,
  "metadata": {
    "colab": {
      "provenance": [],
      "authorship_tag": "ABX9TyNYWXTyQBvRUHeibTG2lhwZ",
      "include_colab_link": true
    },
    "kernelspec": {
      "name": "python3",
      "display_name": "Python 3"
    },
    "language_info": {
      "name": "python"
    }
  },
  "cells": [
    {
      "cell_type": "markdown",
      "metadata": {
        "id": "view-in-github",
        "colab_type": "text"
      },
      "source": [
        "<a href=\"https://colab.research.google.com/github/Elizaluckianchikova/Algorithms-and-data-structure/blob/main/%D0%97%D0%B0%D0%B4%D0%B0%D1%87%D0%B0_%D0%BE_%D1%80%D1%8E%D0%BA%D0%B7%D0%B0%D0%BA%D0%B5.ipynb\" target=\"_parent\"><img src=\"https://colab.research.google.com/assets/colab-badge.svg\" alt=\"Open In Colab\"/></a>"
      ]
    },
    {
      "cell_type": "markdown",
      "source": [
        "**Задача о рюкзаке**\n",
        "\n",
        "Задача о рюкзаке - это еще одна задача оптимизации, в которой вы должны упаковать рюкзак определенным количеством предметов, учитывая их вес и стоимость.\n",
        "Довольно популярна в области оптимизации. Существует несколько вариаций этой задачи, но обычно она формулируется следующим образом: у вас есть рюкзак определенной вместимости, и вам нужно выбрать определенное количество предметов из заданного набора так, чтобы их суммарная стоимость была максимальной, при условии что общий вес выбранных предметов не превышает вместимость рюкзака.\n"
      ],
      "metadata": {
        "id": "IHtR74j3pRTW"
      }
    },
    {
      "cell_type": "code",
      "source": [
        "class Knapsack(object):\n",
        "  def knapsack(weights, values, capacity):\n",
        "    n = len(values)\n",
        "    dp = [[0 for _ in range(capacity + 1)] for _ in range(n + 1)]\n",
        "\n",
        "    for i in range(1, n + 1):\n",
        "        for w in range(1, capacity + 1):\n",
        "            if weights[i-1] <= w:\n",
        "                dp[i][w] = max(values[i-1] + dp[i-1][w-weights[i-1]], dp[i-1][w])\n",
        "            else:\n",
        "                dp[i][w] = dp[i-1][w]\n",
        "\n",
        "    selected_items = []\n",
        "    w = capacity\n",
        "    for i in range(n, 0, -1):\n",
        "        if dp[i][w] != dp[i-1][w]:\n",
        "            selected_items.append(i-1)\n",
        "            w -= weights[i-1]\n",
        "\n",
        "    return dp[n][capacity], selected_items\n",
        "\n",
        "weights = [2, 3, 4, 5]\n",
        "values = [3, 4, 5, 6]\n",
        "capacity = 5\n",
        "\n",
        "max_value, selected_items = knapsack(weights, values, capacity)\n",
        "print(\"Максимальная стоимость:\", max_value)\n",
        "print(\"Выбранные предметы:\", selected_items)\n"
      ],
      "metadata": {
        "id": "4p8bkOrwruEI"
      },
      "execution_count": null,
      "outputs": []
    }
  ]
}