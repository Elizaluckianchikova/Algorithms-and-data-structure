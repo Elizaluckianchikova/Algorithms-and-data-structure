{
  "nbformat": 4,
  "nbformat_minor": 0,
  "metadata": {
    "colab": {
      "provenance": [],
      "authorship_tag": "ABX9TyNP7IgZeai7VhV8EK79Ibdf",
      "include_colab_link": true
    },
    "kernelspec": {
      "name": "python3",
      "display_name": "Python 3"
    },
    "language_info": {
      "name": "python"
    }
  },
  "cells": [
    {
      "cell_type": "markdown",
      "metadata": {
        "id": "view-in-github",
        "colab_type": "text"
      },
      "source": [
        "<a href=\"https://colab.research.google.com/github/Elizaluckianchikova/Algorithms-and-data-structure/blob/main/binarysort.ipynb\" target=\"_parent\"><img src=\"https://colab.research.google.com/assets/colab-badge.svg\" alt=\"Open In Colab\"/></a>"
      ]
    },
    {
      "cell_type": "markdown",
      "source": [
        "**Реализовать метод бинарного поиска в сортированном массиве**\n",
        "Этот метод принимает отсортированный массив arr и целевой элемент target. Затем он использует цикл while, чтобы сужать интервал поиска до тех пор, пока не найдет целевой элемент или пока интервал не станет пустым. Если целевой элемент найден, метод возвращает его индекс в массиве, иначе возвращает -1."
      ],
      "metadata": {
        "id": "mbFkgUGWrgZq"
      }
    },
    {
      "cell_type": "code",
      "source": [
        "def binary_search(arr, target):\n",
        "    left = 0\n",
        "    right = len(arr) - 1\n",
        "\n",
        "    while left <= right:\n",
        "        mid = (left + right) // 2\n",
        "        if arr[mid] == target:\n",
        "            return mid\n",
        "        elif arr[mid] < target:\n",
        "            left = mid + 1\n",
        "        else:\n",
        "            right = mid - 1\n",
        "\n",
        "    return -1  # Возвращаем -1, если элемент не найден\n",
        "\n",
        "# Пример использования\n",
        "arr = [1, 3, 5, 7, 9, 11, 13]\n",
        "target = 7\n",
        "result = binary_search(arr, target)\n",
        "if result != -1:\n",
        "    print(f\"Элемент {target} найден в позиции {result}.\")\n",
        "else:\n",
        "    print(f\"Элемент {target} не найден.\")\n"
      ],
      "metadata": {
        "id": "KKwImB7TrsLa"
      },
      "execution_count": null,
      "outputs": []
    }
  ]
}