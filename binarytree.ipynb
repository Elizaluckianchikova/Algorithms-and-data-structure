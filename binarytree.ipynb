{
  "nbformat": 4,
  "nbformat_minor": 0,
  "metadata": {
    "colab": {
      "provenance": [],
      "authorship_tag": "ABX9TyMZwGnA+ZL1eo8vniWCKeWv",
      "include_colab_link": true
    },
    "kernelspec": {
      "name": "python3",
      "display_name": "Python 3"
    },
    "language_info": {
      "name": "python"
    }
  },
  "cells": [
    {
      "cell_type": "markdown",
      "metadata": {
        "id": "view-in-github",
        "colab_type": "text"
      },
      "source": [
        "<a href=\"https://colab.research.google.com/github/Elizaluckianchikova/Algorithms-and-data-structure/blob/main/binarytree.ipynb\" target=\"_parent\"><img src=\"https://colab.research.google.com/assets/colab-badge.svg\" alt=\"Open In Colab\"/></a>"
      ]
    },
    {
      "cell_type": "markdown",
      "source": [
        "**Бинарное дерево**\n",
        "\n",
        "Бинарное дерево - это структура данных, которая состоит из узлов, каждый из которых имеет не более двух “детей” (узлов, которые находятся ниже данного). Верхний узел называется корневым. Бинарные деревья обычно используются для хранения данных, которые требуется отсортировать, или для быстрой выборки данных."
      ],
      "metadata": {
        "id": "E4e1eBDaUxE8"
      }
    },
    {
      "cell_type": "code",
      "source": [
        "class Node:\n",
        "    def __init__(self, key):\n",
        "        self.left = None\n",
        "        self.right = None\n",
        "        self.val = key\n",
        "\n",
        "def insert(root, key):\n",
        "    if root is None:\n",
        "        return Node(key)\n",
        "    else:\n",
        "        if root.val < key:\n",
        "            root.right = insert(root.right, key)\n",
        "        else:\n",
        "            root.left = insert(root.left, key)\n",
        "    return root\n",
        "\n",
        "def inorder_traversal(root):\n",
        "    if root:\n",
        "        inorder_traversal(root.left)\n",
        "        print(root.val)\n",
        "        inorder_traversal(root.right)\n",
        "\n",
        "# Пример использования\n",
        "root = Node(50)\n",
        "root = insert(root, 30)\n",
        "root = insert(root, 20)\n",
        "root = insert(root, 40)\n",
        "root = insert(root, 70)\n",
        "root = insert(root, 60)\n",
        "root = insert(root, 80)\n",
        "\n",
        "inorder_traversal(root)\n"
      ],
      "metadata": {
        "colab": {
          "base_uri": "https://localhost:8080/"
        },
        "id": "QYOpr4aJWCxr",
        "outputId": "f207e1f5-9c31-4a97-d772-dc5c7b2a446a"
      },
      "execution_count": 1,
      "outputs": [
        {
          "output_type": "stream",
          "name": "stdout",
          "text": [
            "20\n",
            "30\n",
            "40\n",
            "50\n",
            "60\n",
            "70\n",
            "80\n"
          ]
        }
      ]
    }
  ]
}