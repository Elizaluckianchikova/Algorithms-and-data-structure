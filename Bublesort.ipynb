{
  "nbformat": 4,
  "nbformat_minor": 0,
  "metadata": {
    "colab": {
      "provenance": [],
      "authorship_tag": "ABX9TyOz7fchOWrQV+R0XPe2NAgJ",
      "include_colab_link": true
    },
    "kernelspec": {
      "name": "python3",
      "display_name": "Python 3"
    },
    "language_info": {
      "name": "python"
    }
  },
  "cells": [
    {
      "cell_type": "markdown",
      "metadata": {
        "id": "view-in-github",
        "colab_type": "text"
      },
      "source": [
        "<a href=\"https://colab.research.google.com/github/Elizaluckianchikova/Algorithms-and-data-structure/blob/main/Bublesort.ipynb\" target=\"_parent\"><img src=\"https://colab.research.google.com/assets/colab-badge.svg\" alt=\"Open In Colab\"/></a>"
      ]
    },
    {
      "cell_type": "markdown",
      "source": [
        "**Сортировка пузырьком**\n",
        "\n",
        "Сортировка пузырьком (bubble sort) - это простой алгоритм сортировки, который многократно проходит по списку, сравнивая соседние элементы и меняя их местами, если они находятся в неправильном порядке. Этот процесс продолжается до тех пор, пока все элементы не будут отсортированы.\n",
        "\n",
        "Хотя сортировка пузырьком является простым алгоритмом, он неэффективен для больших списков и обычно используется только в учебных целях или для сортировки небольших наборов данных.\n",
        "\n"
      ],
      "metadata": {
        "id": "0jUtBzSswoB2"
      }
    },
    {
      "cell_type": "code",
      "source": [
        "def bubble_sort(arr):\n",
        "    n = len(arr)\n",
        "    for i in range(n):\n",
        "        # Флаг для отслеживания произошли ли обмены в текущей итерации\n",
        "        swapped = False\n",
        "        for j in range(0, n-i-1):\n",
        "            if arr[j] > arr[j+1]:\n",
        "                # Обмен элементов\n",
        "                arr[j], arr[j+1] = arr[j+1], arr[j]\n",
        "                swapped = True\n",
        "        # Если в текущей итерации не было обменов, массив уже отсортирован\n",
        "        if not swapped:\n",
        "            break\n",
        "\n",
        "# Пример использования\n",
        "my_list = [64, 34, 25, 12, 22, 11, 90]\n",
        "bubble_sort(my_list)\n",
        "print(\"Отсортированный массив:\", my_list)\n"
      ],
      "metadata": {
        "id": "_3IlepmzwwwE"
      },
      "execution_count": null,
      "outputs": []
    }
  ]
}