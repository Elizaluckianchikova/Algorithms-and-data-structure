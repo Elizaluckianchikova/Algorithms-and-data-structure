{
  "nbformat": 4,
  "nbformat_minor": 0,
  "metadata": {
    "colab": {
      "provenance": [],
      "authorship_tag": "ABX9TyNJ1jtC0TEoyflEW8DYuEac",
      "include_colab_link": true
    },
    "kernelspec": {
      "name": "python3",
      "display_name": "Python 3"
    },
    "language_info": {
      "name": "python"
    }
  },
  "cells": [
    {
      "cell_type": "markdown",
      "metadata": {
        "id": "view-in-github",
        "colab_type": "text"
      },
      "source": [
        "<a href=\"https://colab.research.google.com/github/Elizaluckianchikova/Algorithms-and-data-structure/blob/main/%D0%90%D0%BB%D0%B3%D0%BE%D1%80%D0%B8%D1%82%D0%BC_%D0%91%D0%B5%D0%BB%D0%BB%D0%B0_%D0%A4%D0%BE%D1%80%D0%B4%D0%B0.ipynb\" target=\"_parent\"><img src=\"https://colab.research.google.com/assets/colab-badge.svg\" alt=\"Open In Colab\"/></a>"
      ]
    },
    {
      "cell_type": "code",
      "source": [
        "class Graph:\n",
        "    def __init__(self, vertices):\n",
        "        self.V = vertices\n",
        "        self.graph = []\n",
        "\n",
        "    def add_edge(self, u, v, w):\n",
        "        self.graph.append([u, v, w])\n",
        "\n",
        "    def bellman_ford(self, src):\n",
        "        dist = [float(\"Inf\")] * self.V\n",
        "        dist[src] = 0\n",
        "\n",
        "        for _ in range(self.V - 1):\n",
        "            for u, v, w in self.graph:\n",
        "                if dist[u] != float(\"Inf\") and dist[u] + w < dist[v]:\n",
        "                    dist[v] = dist[u] + w\n",
        "\n",
        "        for u, v, w in self.graph:\n",
        "            if dist[u] != float(\"Inf\") and dist[u] + w < dist[v]:\n",
        "                print(\"Граф содержит отрицательный цикл\")\n",
        "                return\n",
        "\n",
        "        print(\"Вершина Расстояние от источника\")\n",
        "        for i in range(self.V):\n",
        "            print(f\"{i}\\t\\t{dist[i]}\")\n",
        "\n",
        "g = Graph(5)\n",
        "g.add_edge(0, 1, -1)\n",
        "g.add_edge(0, 2, 4)\n",
        "g.add_edge(1, 2, 3)\n",
        "g.add_edge(1, 3, 2)\n",
        "g.add_edge(1, 4, 2)\n",
        "g.add_edge(3, 2, 5)\n",
        "g.add_edge(3, 1, 1)\n",
        "g.add_edge(4, 3, -3)\n",
        "\n",
        "g.bellman_ford(0)"
      ],
      "metadata": {
        "id": "9f05QhIRwR-b"
      },
      "execution_count": null,
      "outputs": []
    }
  ]
}