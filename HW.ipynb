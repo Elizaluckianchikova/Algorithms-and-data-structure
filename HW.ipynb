{
  "nbformat": 4,
  "nbformat_minor": 0,
  "metadata": {
    "colab": {
      "provenance": [],
      "authorship_tag": "ABX9TyOHt7dCU/qLYP0Il5zorR66",
      "include_colab_link": true
    },
    "kernelspec": {
      "name": "python3",
      "display_name": "Python 3"
    },
    "language_info": {
      "name": "python"
    }
  },
  "cells": [
    {
      "cell_type": "markdown",
      "metadata": {
        "id": "view-in-github",
        "colab_type": "text"
      },
      "source": [
        "<a href=\"https://colab.research.google.com/github/Elizaluckianchikova/Algorithms-and-data-structure/blob/main/HW.ipynb\" target=\"_parent\"><img src=\"https://colab.research.google.com/assets/colab-badge.svg\" alt=\"Open In Colab\"/></a>"
      ]
    },
    {
      "cell_type": "markdown",
      "source": [
        "**Реализовать обход в ширину графа Python**"
      ],
      "metadata": {
        "id": "5tHMd5yuBfG6"
      }
    },
    {
      "cell_type": "code",
      "source": [
        "import queue\n",
        "\n",
        "class Graph:\n",
        "    def __init__(self):\n",
        "        self.graph = {}\n",
        "\n",
        "    def add_vertex(self, vertex):\n",
        "        if vertex not in self.graph:\n",
        "            self.graph[vertex] = []\n",
        "\n",
        "    def add_edge(self, start_vertex, end_vertex):\n",
        "        self.add_vertex(start_vertex)\n",
        "        self.add_vertex(end_vertex)\n",
        "\n",
        "        self.graph[start_vertex].append(end_vertex)\n",
        "\n",
        "\n",
        "def bfs(graph, start_vertex):\n",
        "    visited = set()\n",
        "    queue = queue.Queue()\n",
        "\n",
        "    queue.put(start_vertex)\n",
        "    visited.add(start_vertex)\n",
        "\n",
        "    while not queue.empty():\n",
        "        current_vertex = queue.get()\n",
        "\n",
        "        for neighbor in graph.graph[current_vertex]:\n",
        "            if neighbor not in visited:\n",
        "                visited.add(neighbor)\n",
        "                queue.put(neighbor)\n",
        "\n",
        "def main():\n",
        "  graph = Graph()\n",
        "  graph.add_edge(\"A\", \"B\")\n",
        "  graph.add_edge(\"B\", \"C\")\n",
        "  graph.add_edge(\"C\", \"D\")\n",
        "  graph.add_edge(\"D\", \"E\")\n",
        "print(\"Обход в ширину:\")\n",
        "bfs(graph, \"A\")\n",
        "if name == “main”:\n",
        "main()"
      ],
      "metadata": {
        "id": "YwIi7ZwkBnki"
      },
      "execution_count": null,
      "outputs": []
    }
  ]
}