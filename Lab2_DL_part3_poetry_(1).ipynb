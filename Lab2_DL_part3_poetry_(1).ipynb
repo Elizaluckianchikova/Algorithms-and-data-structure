{
  "cells": [
    {
      "cell_type": "markdown",
      "metadata": {
        "id": "view-in-github",
        "colab_type": "text"
      },
      "source": [
        "<a href=\"https://colab.research.google.com/github/Elizaluckianchikova/Algorithms-and-data-structure/blob/main/Lab2_DL_part3_poetry_(1).ipynb\" target=\"_parent\"><img src=\"https://colab.research.google.com/assets/colab-badge.svg\" alt=\"Open In Colab\"/></a>"
      ]
    },
    {
      "cell_type": "markdown",
      "metadata": {
        "id": "U00RfKi-RP8P"
      },
      "source": [
        "## Lab 2"
      ]
    },
    {
      "cell_type": "markdown",
      "metadata": {
        "id": "FxQYX5sZRP8V"
      },
      "source": [
        "### Part 3. Poetry generation\n",
        "\n",
        "Let's try to generate some poetry using RNNs.\n",
        "\n",
        "You have several choices here:\n",
        "\n",
        "* The Shakespeare sonnets, file `sonnets.txt` available in the notebook directory.\n",
        "\n",
        "* Роман в стихах \"Евгений Онегин\" Александра Сергеевича Пушкина. В предобработанном виде доступен по [ссылке](https://github.com/attatrol/data_sources/blob/master/onegin.txt).\n",
        "\n",
        "* Some other text source, if it will be approved by the course staff.\n",
        "\n",
        "Text generation can be designed in several steps:\n",
        "    \n",
        "1. Data loading.\n",
        "2. Dictionary generation.\n",
        "3. Data preprocessing.\n",
        "4. Model (neural network) training.\n",
        "5. Text generation (model evaluation).\n"
      ]
    },
    {
      "cell_type": "code",
      "execution_count": 18,
      "metadata": {
        "id": "XYJV1d_iRP8X"
      },
      "outputs": [],
      "source": [
        "import string\n",
        "import os"
      ]
    },
    {
      "cell_type": "markdown",
      "metadata": {
        "id": "JaKnNY45RP8c"
      },
      "source": [
        "### Data loading: Shakespeare"
      ]
    },
    {
      "cell_type": "markdown",
      "metadata": {
        "id": "9gvDh-4HRP8d"
      },
      "source": [
        "Shakespeare sonnets are awailable at this [link](http://www.gutenberg.org/ebooks/1041?msg=welcome_stranger). In addition, they are stored in the same directory as this notebook (`sonnetes.txt`). Simple preprocessing is already done for you in the next cell: all technical info is dropped."
      ]
    },
    {
      "cell_type": "code",
      "execution_count": 17,
      "metadata": {
        "collapsed": true,
        "id": "bgQal70-RP8e"
      },
      "outputs": [],
      "source": [
        "if not os.path.exists('sonnets.txt'):\n",
        "    !wget https://raw.githubusercontent.com/girafe-ai/ml-course/22f_basic/homeworks/lab02_deep_learning/sonnets.txt\n",
        "\n",
        "with open('sonnets.txt', 'r') as iofile:\n",
        "    text = iofile.readlines()\n",
        "\n",
        "TEXT_START = 45\n",
        "TEXT_END = -368\n",
        "text = text[TEXT_START : TEXT_END]\n",
        "assert len(text) == 2616"
      ]
    },
    {
      "cell_type": "markdown",
      "metadata": {
        "id": "JJxddj6FRP8f"
      },
      "source": [
        "In opposite to the in-class practice, this time we want to predict complex text. Let's reduce the complexity of the task and lowercase all the symbols.\n",
        "\n",
        "Now variable `text` is a list of strings. Join all the strings into one and lowercase it."
      ]
    },
    {
      "cell_type": "code",
      "execution_count": 3,
      "metadata": {
        "colab": {
          "base_uri": "https://localhost:8080/"
        },
        "id": "rSxwkHN5RP8g",
        "outputId": "d72ef5ec-d113-46be-b99b-f3825cb2f1a9"
      },
      "outputs": [
        {
          "output_type": "stream",
          "name": "stdout",
          "text": [
            "OK!\n"
          ]
        }
      ],
      "source": [
        "# Join all the strings into one and lowercase it\n",
        "# Put result into variable text.\n",
        "\n",
        "# Your great code here\n",
        "import os\n",
        "import string\n",
        "\n",
        "if not os.path.exists('sonnets.txt'):\n",
        "    !wget https://raw.githubusercontent.com/girafe-ai/ml-course/22f_basic/homeworks/lab02_deep_learning/sonnets.txt\n",
        "\n",
        "with open('sonnets.txt', 'r') as iofile:\n",
        "    text = iofile.readlines()\n",
        "\n",
        "TEXT_START = 45\n",
        "TEXT_END = -368\n",
        "text = text[TEXT_START : TEXT_END]\n",
        "assert len(text) == 2616 # Join all the strings into one and lowercase it\n",
        "# Put result into variable text.\n",
        "\n",
        "# Your great code here\n",
        "text = ''.join(text).lower()  # Объединяем строки и переводим в нижний регистр\n",
        "\n",
        "assert len(text) == 100225, 'Are you sure you have concatenated all the strings?'\n",
        "assert not any([x in set(text) for x in string.ascii_uppercase]), 'Uppercase letters are present'\n",
        "print('OK!')\n"
      ]
    },
    {
      "cell_type": "markdown",
      "metadata": {
        "id": "Dr0V5IiJRP8i"
      },
      "source": [
        "### Data loading: \"Евгений Онегин\"\n"
      ]
    },
    {
      "cell_type": "code",
      "execution_count": 4,
      "metadata": {
        "colab": {
          "base_uri": "https://localhost:8080/"
        },
        "id": "y2o2UC45RP8n",
        "outputId": "824e5e73-d30c-494a-9a72-ccb1e3ef1a32"
      },
      "outputs": [
        {
          "output_type": "stream",
          "name": "stdout",
          "text": [
            "--2024-06-09 14:05:35--  https://raw.githubusercontent.com/attatrol/data_sources/master/onegin.txt\n",
            "Resolving raw.githubusercontent.com (raw.githubusercontent.com)... 185.199.111.133, 185.199.110.133, 185.199.109.133, ...\n",
            "Connecting to raw.githubusercontent.com (raw.githubusercontent.com)|185.199.111.133|:443... connected.\n",
            "HTTP request sent, awaiting response... 200 OK\n",
            "Length: 262521 (256K) [text/plain]\n",
            "Saving to: ‘onegin.txt’\n",
            "\n",
            "onegin.txt          100%[===================>] 256.37K  --.-KB/s    in 0.1s    \n",
            "\n",
            "2024-06-09 14:05:36 (1.90 MB/s) - ‘onegin.txt’ saved [262521/262521]\n",
            "\n"
          ]
        }
      ],
      "source": [
        "!wget https://raw.githubusercontent.com/attatrol/data_sources/master/onegin.txt\n",
        "\n",
        "with open('onegin.txt', 'r') as iofile:\n",
        "    text = iofile.readlines()\n",
        "\n",
        "text = [x.replace('\\t\\t', '') for x in text]"
      ]
    },
    {
      "cell_type": "markdown",
      "metadata": {
        "id": "KB9u7JIaRP8o"
      },
      "source": [
        "In opposite to the in-class practice, this time we want to predict complex text. Let's reduce the complexity of the task and lowercase all the symbols.\n",
        "\n",
        "Now variable `text` is a list of strings. Join all the strings into one and lowercase it."
      ]
    },
    {
      "cell_type": "code",
      "execution_count": 5,
      "metadata": {
        "colab": {
          "base_uri": "https://localhost:8080/"
        },
        "id": "XxOgyYsvRP8q",
        "outputId": "5fa98a7a-9b5f-4f3f-edfa-bbdad6294419"
      },
      "outputs": [
        {
          "output_type": "stream",
          "name": "stdout",
          "text": [
            "--2024-06-09 14:05:36--  https://raw.githubusercontent.com/attatrol/data_sources/master/onegin.txt\n",
            "Resolving raw.githubusercontent.com (raw.githubusercontent.com)... 185.199.111.133, 185.199.109.133, 185.199.110.133, ...\n",
            "Connecting to raw.githubusercontent.com (raw.githubusercontent.com)|185.199.111.133|:443... connected.\n",
            "HTTP request sent, awaiting response... 200 OK\n",
            "Length: 262521 (256K) [text/plain]\n",
            "Saving to: ‘onegin.txt.1’\n",
            "\n",
            "onegin.txt.1        100%[===================>] 256.37K  --.-KB/s    in 0.1s    \n",
            "\n",
            "2024-06-09 14:05:36 (1.93 MB/s) - ‘onegin.txt.1’ saved [262521/262521]\n",
            "\n"
          ]
        }
      ],
      "source": [
        "# Join all the strings into one and lowercase it\n",
        "# Put result into variable text.\n",
        "import os\n",
        "import string\n",
        "\n",
        "!wget https://raw.githubusercontent.com/attatrol/data_sources/master/onegin.txt\n",
        "\n",
        "with open('onegin.txt', 'r') as iofile:\n",
        "    text = iofile.readlines()\n",
        "\n",
        "text = [x.replace('\\t\\t', '') for x in text]\n",
        "\n",
        "# Объединяем строки и переводим в нижний регистр\n",
        "text = ''.join(text).lower()\n",
        "\n"
      ]
    },
    {
      "cell_type": "markdown",
      "metadata": {
        "id": "SEaxriotRP8r"
      },
      "source": [
        "Put all the characters, that you've seen in the text, into variable `tokens`."
      ]
    },
    {
      "cell_type": "code",
      "execution_count": 6,
      "metadata": {
        "colab": {
          "base_uri": "https://localhost:8080/"
        },
        "id": "ZEU4rsZ7RP8r",
        "outputId": "28d29e02-eba7-407e-ceea-3dc3ac721591"
      },
      "outputs": [
        {
          "output_type": "stream",
          "name": "stdout",
          "text": [
            "--2024-06-09 14:05:36--  https://raw.githubusercontent.com/attatrol/data_sources/master/onegin.txt\n",
            "Resolving raw.githubusercontent.com (raw.githubusercontent.com)... 185.199.109.133, 185.199.110.133, 185.199.108.133, ...\n",
            "Connecting to raw.githubusercontent.com (raw.githubusercontent.com)|185.199.109.133|:443... connected.\n",
            "HTTP request sent, awaiting response... 200 OK\n",
            "Length: 262521 (256K) [text/plain]\n",
            "Saving to: ‘onegin.txt.2’\n",
            "\n",
            "onegin.txt.2        100%[===================>] 256.37K  --.-KB/s    in 0.1s    \n",
            "\n",
            "2024-06-09 14:05:36 (1.93 MB/s) - ‘onegin.txt.2’ saved [262521/262521]\n",
            "\n",
            "Всего уникальных символов: 83\n",
            "['\\n', ' ', '!', '(', ')', ',', '-', '.', '5', '7', '8', '9', ':', ';', '?', '[', ']', '^', 'a', 'b', 'c', 'd', 'e', 'f', 'g', 'h', 'i', 'k', 'l', 'm', 'n', 'o', 'p', 'q', 'r', 's', 't', 'u', 'v', 'w', 'x', 'y', 'z', '«', '»', 'а', 'б', 'в', 'г', 'д', 'е', 'ж', 'з', 'и', 'й', 'к', 'л', 'м', 'н', 'о', 'п', 'р', 'с', 'т', 'у', 'ф', 'х', 'ц', 'ч', 'ш', 'щ', 'ъ', 'ы', 'ь', 'э', 'ю', 'я', 'ё', '–', '—', '’', '…', '€']\n"
          ]
        }
      ],
      "source": [
        "import os\n",
        "import string\n",
        "\n",
        "!wget https://raw.githubusercontent.com/attatrol/data_sources/master/onegin.txt\n",
        "\n",
        "with open('onegin.txt', 'r') as iofile:\n",
        "    text = iofile.readlines()\n",
        "\n",
        "text = [x.replace('\\t\\t', '') for x in text]\n",
        "text = ''.join(text).lower()\n",
        "\n",
        "# Создаем множество уникальных символов\n",
        "tokens = sorted(set(text))\n",
        "\n",
        "print(f\"Всего уникальных символов: {len(tokens)}\")\n",
        "print(tokens)\n"
      ]
    },
    {
      "cell_type": "markdown",
      "metadata": {
        "id": "4hInlALQRP8s"
      },
      "source": [
        "Create dictionary `token_to_idx = {<char>: <index>}` and dictionary `idx_to_token = {<index>: <char>}`"
      ]
    },
    {
      "cell_type": "code",
      "execution_count": 7,
      "metadata": {
        "colab": {
          "base_uri": "https://localhost:8080/"
        },
        "collapsed": true,
        "id": "qNeuppZ5RP8t",
        "outputId": "a708045e-66ab-427b-c96e-faf321dcdad5"
      },
      "outputs": [
        {
          "output_type": "stream",
          "name": "stdout",
          "text": [
            "Символ: е\n",
            "One-hot вектор:\n",
            "[0 0 0 0 0 0 0 0 0 0 0 0 0 0 0 0 0 0 0 0 0 0 0 0 0 0 0 0 0 0 0 0 0 0 0 0 0\n",
            " 0 0 0 0 0 0 0 0 0 0 0 0 0 1 0 0 0 0 0 0 0 0 0 0 0 0 0 0 0 0 0 0 0 0 0 0 0\n",
            " 0 0 0 0 0 0 0 0 0]\n"
          ]
        }
      ],
      "source": [
        "# dict <index>:<char>\n",
        "# Your great code here\n",
        "\n",
        "# dict <char>:<index>\n",
        "# Your great code here\n",
        "import os\n",
        "import string\n",
        "import numpy as np\n",
        "\n",
        "# ... (код загрузки и обработки текста)\n",
        "\n",
        "# Создаем список всех уникальных символов (токенов)\n",
        "tokens = sorted(list(set(text)))\n",
        "\n",
        "# Создаем словарь char_to_idx\n",
        "char_to_idx = {char: idx for idx, char in enumerate(tokens)}\n",
        "\n",
        "# Функция для создания one-hot векторов\n",
        "def one_hot_encode(char, tokens):\n",
        "    vector = np.zeros(len(tokens), dtype=int)\n",
        "    vector[char_to_idx[char]] = 1\n",
        "    return vector\n",
        "\n",
        "# Пример использования:\n",
        "test_char = 'е'\n",
        "test_vector = one_hot_encode(test_char, tokens)\n",
        "\n",
        "print(f\"Символ: {test_char}\")\n",
        "print(f\"One-hot вектор:\\n{test_vector}\")\n",
        "\n",
        "\n",
        "\n"
      ]
    },
    {
      "cell_type": "markdown",
      "metadata": {
        "id": "pVw0C9okRP8u"
      },
      "source": [
        "*Comment: in this task we have only 38 different tokens, so let's use one-hot encoding.*"
      ]
    },
    {
      "cell_type": "markdown",
      "metadata": {
        "id": "lGx2gpPZRP8u"
      },
      "source": [
        "### Building the model"
      ]
    },
    {
      "cell_type": "markdown",
      "metadata": {
        "id": "peZZZdMQRP8v"
      },
      "source": [
        "Now we want to build and train recurrent neural net which would be able to something similar to Shakespeare's poetry.\n",
        "\n",
        "Let's use vanilla RNN, similar to the one created during the lesson."
      ]
    },
    {
      "cell_type": "code",
      "execution_count": 8,
      "metadata": {
        "collapsed": true,
        "id": "kow-jDm4RP8v"
      },
      "outputs": [],
      "source": [
        "# Your code here\n",
        "import torch\n",
        "import torch.nn as nn\n",
        "import matplotlib.pyplot as plt\n",
        "\n",
        "\n"
      ]
    },
    {
      "cell_type": "code",
      "execution_count": 9,
      "metadata": {
        "id": "k-YWD5bwkLF8"
      },
      "outputs": [],
      "source": [
        "# Define the RNN model (same as before)\n",
        "class RNN(nn.Module):\n",
        "    def __init__(self, input_size, hidden_size, output_size):\n",
        "        \"\"\"\n",
        "        Initializes the RNN model.\n",
        "\n",
        "        Args:\n",
        "            input_size: The size of the input vocabulary.\n",
        "            hidden_size: The size of the hidden state.\n",
        "            output_size: The size of the output vocabulary.\n",
        "        \"\"\"\n",
        "        super(RNN, self).__init__()\n",
        "        self.hidden_size = hidden_size\n",
        "\n",
        "        # The embedding layer converts one-hot encoded input tokens into dense vectors\n",
        "        self.embedding = nn.Embedding(input_size, hidden_size)\n",
        "\n",
        "        # The RNN layer processes the sequence of embedded input tokens\n",
        "        self.rnn = nn.RNN(hidden_size, hidden_size, batch_first=True)\n",
        "\n",
        "        # The fully connected layer maps the hidden state to the output vocabulary\n",
        "        self.fc = nn.Linear(hidden_size, output_size)\n",
        "\n",
        "    def forward(self, input, hidden):\n",
        "        \"\"\"\n",
        "        Performs a forward pass through the RNN model.\n",
        "\n",
        "        Args:\n",
        "            input: A batch of one-hot encoded input tokens.\n",
        "            hidden: The initial hidden state of the RNN.\n",
        "\n",
        "        Returns:\n",
        "            output: A batch of output logits.\n",
        "            hidden: The final hidden state of the RNN.\n",
        "        \"\"\"\n",
        "        embedded = self.embedding(input)\n",
        "        output, hidden = self.rnn(embedded, hidden)\n",
        "        output = self.fc(output)\n",
        "        return output, hidden\n",
        "\n",
        "    def init_hidden(self, batch_size):\n",
        "        \"\"\"\n",
        "        Initializes the hidden state of the RNN.\n",
        "\n",
        "        Args:\n",
        "            batch_size: The size of the batch.\n",
        "\n",
        "        Returns:\n",
        "            hidden: The initial hidden state of the RNN.\n",
        "        \"\"\"\n",
        "        return torch.zeros(1, batch_size, self.hidden_size)\n"
      ]
    },
    {
      "cell_type": "code",
      "execution_count": 10,
      "metadata": {
        "id": "rekOMrHpkgUt"
      },
      "outputs": [],
      "source": [
        "# Hyperparameters\n",
        "input_size = 100\n",
        "hidden_size = 128\n",
        "output_size = 100\n",
        "batch_size = 32\n",
        "sequence_length = 50\n",
        "num_epochs = 100\n",
        "learning_rate = 0.001\n",
        "\n",
        "# Create the model, loss function, and optimizer\n",
        "model = RNN(input_size, hidden_size, output_size)\n",
        "criterion = nn.CrossEntropyLoss()\n",
        "optimizer = torch.optim.Adam(model.parameters(), lr=learning_rate)\n",
        "\n",
        "# Generate some example data (replace this with your actual data loading)\n",
        "def generate_data(batch_size, sequence_length, input_size):\n",
        "    input_data = torch.randint(0, input_size, (batch_size, sequence_length))\n",
        "    target_data = torch.randint(0, input_size, (batch_size, sequence_length))\n",
        "    return input_data, target_data"
      ]
    },
    {
      "cell_type": "markdown",
      "metadata": {
        "id": "XjoVij3mRP8w"
      },
      "source": [
        "Plot the loss function (axis X: number of epochs, axis Y: loss function)."
      ]
    },
    {
      "cell_type": "code",
      "execution_count": 11,
      "metadata": {
        "colab": {
          "base_uri": "https://localhost:8080/",
          "height": 654
        },
        "collapsed": true,
        "id": "Wt9JYLfRRP8w",
        "outputId": "4c774ea5-9cf2-4763-cbbe-3d74a1325eb7"
      },
      "outputs": [
        {
          "output_type": "stream",
          "name": "stdout",
          "text": [
            "Epoch [10/100], Loss: 4.6600\n",
            "Epoch [20/100], Loss: 4.6376\n",
            "Epoch [30/100], Loss: 4.6419\n",
            "Epoch [40/100], Loss: 4.6374\n",
            "Epoch [50/100], Loss: 4.6280\n",
            "Epoch [60/100], Loss: 4.6296\n",
            "Epoch [70/100], Loss: 4.6218\n",
            "Epoch [80/100], Loss: 4.6272\n",
            "Epoch [90/100], Loss: 4.6202\n",
            "Epoch [100/100], Loss: 4.6266\n"
          ]
        },
        {
          "output_type": "display_data",
          "data": {
            "text/plain": [
              "<Figure size 640x480 with 1 Axes>"
            ],
            "image/png": "[encoded data removed]"
          },
          "metadata": {}
        }
      ],
      "source": [
        "# Your plot code here\n",
        "# Training loop\n",
        "losses = []\n",
        "for epoch in range(num_epochs):\n",
        "    # Generate a batch of data\n",
        "    input_data, target_data = generate_data(batch_size, sequence_length, input_size)\n",
        "\n",
        "    # Initialize hidden state\n",
        "    hidden = model.init_hidden(batch_size)\n",
        "\n",
        "    # Zero the gradients\n",
        "    optimizer.zero_grad()\n",
        "\n",
        "    # Forward pass\n",
        "    output, hidden = model(input_data, hidden)\n",
        "\n",
        "    # Reshape output and target for CrossEntropyLoss\n",
        "    output = output.view(-1, output_size)\n",
        "    target_data = target_data.view(-1)\n",
        "\n",
        "    # Calculate loss\n",
        "    loss = criterion(output, target_data)\n",
        "\n",
        "    # Backward pass and optimization\n",
        "    loss.backward()\n",
        "    optimizer.step()\n",
        "\n",
        "    # Store loss for plotting\n",
        "    losses.append(loss.item())\n",
        "\n",
        "    # Print progress\n",
        "    if (epoch + 1) % 10 == 0:\n",
        "        print(f'Epoch [{epoch+1}/{num_epochs}], Loss: {loss.item():.4f}')\n",
        "\n",
        "# Plot the loss over epochs\n",
        "plt.plot(losses)\n",
        "plt.xlabel('Epoch')\n",
        "plt.ylabel('Loss')\n",
        "plt.title('Training Loss')\n",
        "plt.show()\n",
        "\n"
      ]
    },
    {
      "cell_type": "markdown",
      "metadata": {
        "id": "w6sDlWpFlOKb"
      },
      "source": [
        "### Комментарии\n",
        "\n",
        "Генерация данных:\n",
        "\n",
        "• generate_data(batch_size, sequence_length, input_size): эта функция генерирует пакет данных, который содержит последовательности входных данных и соответствующие им выходные данные. Пакет данных имеет форму (batch_size, sequence_length, input_size) для входных данных и (batch_size, sequence_length) для выходных данных.\n",
        "\n",
        "Инициализация скрытого состояния:\n",
        "\n",
        "• hidden = model.init_hidden(batch_size): эта строка инициализирует скрытое состояние модели RNN нулевыми тензорами. Скрытое состояние имеет форму (1, batch_size, hidden_size), где 1 - количество слоев RNN.\n",
        "\n",
        "Обнуление градиентов:\n",
        "\n",
        "• optimizer.zero_grad(): эта строка обнуляет градиенты модели. Градиенты должны быть обнулены перед каждым обратным проходом, чтобы избежать накопления градиентов из предыдущих проходов.\n",
        "\n",
        "Прямой проход:\n",
        "\n",
        "• output, hidden = model(input_data, hidden): эта строка выполняет прямой проход через модель RNN. input_data - это пакет входных данных, а hidden - это скрытое состояние. Функция model возвращает выходные данные output и обновленное скрытое состояние hidden.\n",
        "\n",
        "Преобразование выходных данных и целевых данных:\n",
        "\n",
        "• output = output.view(-1, output_size): эта строка преобразует выходные данные из формы (batch_size, sequence_length, output_size) в форму (-1, output_size). Это необходимо для использования функции потери CrossEntropyLoss, которая ожидает входные данные в плоском виде.\n",
        "• target_data = target_data.view(-1): эта строка преобразует целевые данные из формы (batch_size, sequence_length) в форму (-1). Это также необходимо для использования функции потери CrossEntropyLoss.\n",
        "\n",
        "Вычисление потерь:\n",
        "\n",
        "• loss = criterion(output, target_data): эта строка вычисляет потерю между выходными данными и целевыми данными с использованием функции потери CrossEntropyLoss.\n",
        "\n",
        "Обратный проход и оптимизация:\n",
        "\n",
        "• loss.backward(): эта строка выполняет обратный проход через модель RNN, вычисляя градиенты потери относительно весов модели.\n",
        "• optimizer.step(): эта строка обновляет веса модели, используя оптимизатор optimizer. Оптимизатор использует градиенты, вычисленные в предыдущем обратном проходе, для обновления весов в направлении, уменьшающем потерю.\n",
        "\n",
        "Сохранение потерь для построения графика:\n",
        "\n",
        "• losses.append(loss.item()): эта строка сохраняет значение потери в списке losses. Этот список будет использоваться для построения графика потери в конце цикла обучения.\n",
        "\n",
        "Вывод прогресса:\n",
        "\n",
        "• if (epoch + 1) % 10 == 0:: этот условный оператор печатает прогресс обучения каждые 10 эпох. Он печатает текущую эпоху, общую потерю и потерю на текущей эпохе.\n",
        "\n",
        "Построение графика потерь:\n",
        "\n",
        "• plt.plot(losses): эта строка строит график потерь на основе знач\n",
        "\n",
        "ений, сохраненных в списке losses. График показывает, как потеря меняется с каждой эпохой.\n",
        "• plt.xlabel('Epoch'): эта строка устанавливает метку оси x в \"Epoch\".\n",
        "• plt.ylabel('Loss'): эта строка устанавливает метку оси y в \"Loss\".\n",
        "• plt.title('Training Loss'): эта строка устанавливает заголовок графика в \"Training Loss\".\n",
        "• plt.show(): эта строка отображает график."
      ]
    },
    {
      "cell_type": "code",
      "execution_count": 12,
      "metadata": {
        "id": "ZMcbiyu7RP8x"
      },
      "outputs": [],
      "source": [
        "import torch\n",
        "import torch.nn as nn\n",
        "import torch.nn.functional as F\n",
        "import numpy as np\n",
        "\n",
        "# ... (Your RNN model definition from previous responses) ...\n",
        "\n",
        "def generate_sample(char_rnn, tokens, token_to_id, seed_phrase=' Hello', max_length=100, temperature=1.0):\n",
        "    \"\"\"\n",
        "    Generates text given a seed phrase.\n",
        "\n",
        "    Args:\n",
        "        char_rnn: The trained RNN model.\n",
        "        tokens: A list of all possible tokens (characters).\n",
        "        token_to_id: A dictionary mapping tokens to their IDs.\n",
        "        seed_phrase: The initial phrase to start generation.\n",
        "        max_length: Maximum length of the generated text (including seed_phrase).\n",
        "        temperature: Controls the randomness of the generated text.\n",
        "\n",
        "    Returns:\n",
        "        The generated text string.\n",
        "    \"\"\"\n",
        "\n",
        "    # Prepare input sequence\n",
        "    x_sequence = [token_to_id[token] for token in seed_phrase]\n",
        "    x_sequence = torch.tensor([x_sequence], dtype=torch.int64)  # Batch dimension added\n",
        "\n",
        "    # Initialize hidden state\n",
        "    hidden = char_rnn.init_hidden(batch_size=1)  # Batch size is 1 for generation\n",
        "\n",
        "    # Feed the seed phrase\n",
        "    for i in range(len(seed_phrase) - 1):\n",
        "        output, hidden = char_rnn(x_sequence[:, i:i+1], hidden)  # Slice input for each timestep\n",
        "\n",
        "    # Generate the rest of the sequence\n",
        "    for _ in range(max_length - len(seed_phrase)):\n",
        "        output, hidden = char_rnn(x_sequence[:, -1:], hidden)  # Input is the last token\n",
        "\n",
        "        # Sample from the output distribution\n",
        "        output_logits = output / temperature\n",
        "        p_next = F.softmax(output_logits, dim=-1).squeeze().numpy()  # Remove batch dimension\n",
        "        next_ix = np.random.choice(len(tokens), p=p_next)\n",
        "\n",
        "        # Append the sampled token to the input sequence\n",
        "        next_ix = torch.tensor([[next_ix]], dtype=torch.int64)\n",
        "        x_sequence = torch.cat([x_sequence, next_ix], dim=1)\n",
        "\n",
        "    # Convert the generated sequence back to text\n",
        "    generated_text = ''.join([tokens[ix] for ix in x_sequence[0].tolist()])  # Remove batch dimension\n",
        "    return generated_text\n"
      ]
    },
    {
      "cell_type": "markdown",
      "metadata": {
        "id": "_NtenTbTlnks"
      },
      "source": [
        "Код определяет функцию generate_sample, которая генерирует текст на основе заданной начальной фразы, используя обученную модель RNN. Вот пошаговое описание того, что делает код:\n",
        "\n",
        "1. Подготовка входной последовательности:\n",
        "   - Входная последовательность подготавливается путем преобразования начальной фразы в список идентификаторов токенов с использованием словаря token_to_id.\n",
        "   - Список идентификаторов токенов преобразуется в тензор PyTorch с дополнительным измерением для пакета.\n",
        "\n",
        "2. Инициализация скрытого состояния:\n",
        "   - Исходное скрытое состояние для модели RNN инициализируется с помощью метода init_hidden. Размер пакета устанавливается в 1, поскольку мы генерируем текст по одному символу за раз.\n",
        "\n",
        "3. Обработка начальной фразы:\n",
        "   - Начальная фраза подается в модель RNN по одному символу за раз. Выходные данные и скрытое состояние обновляются на каждом временном шаге.\n",
        "\n",
        "4. Генерация оставшейся части последовательности:\n",
        "   - После обработки начальной фразы оставшиеся символы генерируются с использованием следующего цикла:\n",
        "     - Самый последний выход и скрытое состояние используются для генерации нового распределения вывода.\n",
        "     - Распределение вывода дискретизируется для получения следующего идентификатора символа.\n",
        "     - Следующий идентификатор символа добавляется к входной последовательности.\n",
        "\n",
        "5. Преобразование сгенерированной последовательности в текст:\n",
        "   - Сгенерированная последовательность идентификаторов символов преобразуется обратно в текстовую строку путем сопоставления каждого идентификатора с соответствующим ему символом, используя список tokens.\n",
        "   - Измерение пакета удаляется из сгенерированной последовательности.\n",
        "\n",
        "6. Управление температурой:\n",
        "   - Параметр temperature управляет случайностью генерируемого текста. Более высокая температура приводит к более разнообразному и менее предсказуемому тексту, в то время как более низкая температура приводит к более детерминированному и связному тексту.\n",
        "\n",
        "Функция generate_sample может использоваться для создания креативного текста, такого как стихи или рассказы, путем предоставления начальной фразы и настройки параметра температуры."
      ]
    },
    {
      "cell_type": "code",
      "execution_count": 40,
      "metadata": {
        "id": "ETTpLcB1dFti"
      },
      "outputs": [],
      "source": [
        "\n",
        "def generate_sample(char_rnn, tokens, token_to_id, seed_phrase=' Hello', max_length=100, temperature=1.0):\n",
        "    \"\"\"\n",
        "    Generates text given a seed phrase.\n",
        "\n",
        "    Args:\n",
        "        char_rnn: The trained RNN model.\n",
        "        tokens: A list of all possible tokens (characters).\n",
        "        token_to_id: A dictionary mapping tokens to their IDs.\n",
        "        seed_phrase: The initial phrase to start generation.\n",
        "        max_length: Maximum length of the generated text (including seed_phrase).\n",
        "        temperature: Controls the randomness of the generated text.\n",
        "\n",
        "    Returns:\n",
        "        The generated text string.\n",
        "    \"\"\"\n",
        "\n",
        "    # Prepare input sequence\n",
        "    x_sequence = [token_to_id[token] for token in seed_phrase]\n",
        "    x_sequence = torch.tensor([x_sequence], dtype=torch.int64)  # Batch dimension added\n",
        "\n",
        "    # Initialize hidden state\n",
        "    hidden = char_rnn.init_hidden(batch_size=1)  # Batch size is 1 for generation\n",
        "\n",
        "    # Feed the seed phrase\n",
        "    for i in range(len(seed_phrase) - 1):\n",
        "        output, hidden = char_rnn(x_sequence[:, i:i+1], hidden)  # Slice input for each timestep\n",
        "\n",
        "    # Generate the rest of the sequence\n",
        "    for _ in range(max_length - len(seed_phrase)):\n",
        "        output, hidden = char_rnn(x_sequence[:, -1:], hidden)  # Input is the last token\n",
        "\n",
        "        # Sample from the output distribution\n",
        "        output_logits = output / temperature\n",
        "        p_next = F.softmax\n",
        "        # ... (предыдущий код)\n",
        "\n",
        "    # Convert the generated sequence back to text\n",
        "    generated_text = ''.join([tokens[ix] for ix in x_sequence[0].tolist()])  # Remove batch dimension\n",
        "    return generated_text\n"
      ]
    },
    {
      "cell_type": "code",
      "execution_count": 14,
      "metadata": {
        "id": "_6SmIHnHRP8x"
      },
      "outputs": [],
      "source": [
        "# An example of generated text.\n",
        "# An example of generated text.\n",
        "# print(generate_text(length=500, temperature=0.2))\n",
        "import numpy as np\n",
        "from tensorflow.keras.models import Sequential\n",
        "from tensorflow.keras.layers import LSTM, Dense, Embedding, Dropout\n",
        "from tensorflow.keras.preprocessing.text import Tokenizer\n",
        "from tensorflow.keras.preprocessing.sequence import pad_sequences\n",
        "from tensorflow.keras.callbacks import EarlyStopping\n",
        "\n"
      ]
    },
    {
      "cell_type": "code",
      "execution_count": 15,
      "metadata": {
        "id": "A3OHAM6st4Ge"
      },
      "outputs": [],
      "source": [
        "# --- Загрузка данных ---\n",
        "\n",
        "with open('onegin.txt', 'r') as f:\n",
        "    text = f.read()\n",
        "# --- Подготовка данных с использованием Word Embeddings ---\n",
        "tokenizer = Tokenizer()\n",
        "tokenizer.fit_on_texts([text])\n",
        "total_words = len(tokenizer.word_index) + 1\n",
        "\n",
        "input_sequences = []\n",
        "for line in text.split('.'):\n",
        "    token_list = tokenizer.texts_to_sequences([line])[0]\n",
        "    for i in range(1, len(token_list)):\n",
        "        n_gram_sequence = token_list[:i+1]\n",
        "        input_sequences.append(n_gram_sequence)\n",
        "\n",
        "max_sequence_len = max([len(x) for x in input_sequences])\n",
        "input_sequences = np.array(pad_sequences(input_sequences, maxlen=max_sequence_len, padding='pre'))\n",
        "\n",
        "X = input_sequences[:,:-1]\n",
        "y = np.array(input_sequences[:,-1])\n",
        "y = np.eye(total_words)[y]  # One-hot encode"
      ]
    },
    {
      "cell_type": "code",
      "execution_count": 16,
      "metadata": {
        "colab": {
          "base_uri": "https://localhost:8080/",
          "height": 517
        },
        "id": "oUu4sksMuTUx",
        "outputId": "6340d7de-37e6-48fc-cd74-f58c4b832b32"
      },
      "outputs": [
        {
          "output_type": "stream",
          "name": "stdout",
          "text": [
            "Epoch 1/50\n",
            "347/347 [==============================] - 648s 2s/step - loss: 8.2382\n",
            "Epoch 2/50\n",
            "347/347 [==============================] - 633s 2s/step - loss: 7.8403\n",
            "Epoch 3/50\n",
            "347/347 [==============================] - 634s 2s/step - loss: 7.6933\n",
            "Epoch 4/50\n",
            "347/347 [==============================] - 633s 2s/step - loss: 7.5953\n",
            "Epoch 5/50\n",
            "191/347 [===============>..............] - ETA: 4:41 - loss: 7.4619"
          ]
        },
        {
          "output_type": "error",
          "ename": "KeyboardInterrupt",
          "evalue": "",
          "traceback": [
            "\u001b[0;31m---------------------------------------------------------------------------\u001b[0m",
            "\u001b[0;31mKeyboardInterrupt\u001b[0m                         Traceback (most recent call last)",
            "\u001b[0;32m<ipython-input-16-f799edf40039>\u001b[0m in \u001b[0;36m<cell line: 13>\u001b[0;34m()\u001b[0m\n\u001b[1;32m     11\u001b[0m \u001b[0;31m# --- Обучение модели LSTM ---\u001b[0m\u001b[0;34m\u001b[0m\u001b[0;34m\u001b[0m\u001b[0m\n\u001b[1;32m     12\u001b[0m \u001b[0mearly_stopping\u001b[0m \u001b[0;34m=\u001b[0m \u001b[0mEarlyStopping\u001b[0m\u001b[0;34m(\u001b[0m\u001b[0mmonitor\u001b[0m\u001b[0;34m=\u001b[0m\u001b[0;34m'loss'\u001b[0m\u001b[0;34m,\u001b[0m \u001b[0mpatience\u001b[0m\u001b[0;34m=\u001b[0m\u001b[0;36m10\u001b[0m\u001b[0;34m)\u001b[0m\u001b[0;34m\u001b[0m\u001b[0;34m\u001b[0m\u001b[0m\n\u001b[0;32m---> 13\u001b[0;31m \u001b[0mhistory_lstm\u001b[0m \u001b[0;34m=\u001b[0m \u001b[0mmodel_lstm\u001b[0m\u001b[0;34m.\u001b[0m\u001b[0mfit\u001b[0m\u001b[0;34m(\u001b[0m\u001b[0mX\u001b[0m\u001b[0;34m,\u001b[0m \u001b[0my\u001b[0m\u001b[0;34m,\u001b[0m \u001b[0mbatch_size\u001b[0m\u001b[0;34m=\u001b[0m\u001b[0;36m64\u001b[0m\u001b[0;34m,\u001b[0m \u001b[0mepochs\u001b[0m\u001b[0;34m=\u001b[0m\u001b[0;36m50\u001b[0m\u001b[0;34m,\u001b[0m \u001b[0mcallbacks\u001b[0m\u001b[0;34m=\u001b[0m\u001b[0;34m[\u001b[0m\u001b[0mearly_stopping\u001b[0m\u001b[0;34m]\u001b[0m\u001b[0;34m)\u001b[0m\u001b[0;34m\u001b[0m\u001b[0;34m\u001b[0m\u001b[0m\n\u001b[0m",
            "\u001b[0;32m/usr/local/lib/python3.10/dist-packages/keras/src/utils/traceback_utils.py\u001b[0m in \u001b[0;36merror_handler\u001b[0;34m(*args, **kwargs)\u001b[0m\n\u001b[1;32m     63\u001b[0m         \u001b[0mfiltered_tb\u001b[0m \u001b[0;34m=\u001b[0m \u001b[0;32mNone\u001b[0m\u001b[0;34m\u001b[0m\u001b[0;34m\u001b[0m\u001b[0m\n\u001b[1;32m     64\u001b[0m         \u001b[0;32mtry\u001b[0m\u001b[0;34m:\u001b[0m\u001b[0;34m\u001b[0m\u001b[0;34m\u001b[0m\u001b[0m\n\u001b[0;32m---> 65\u001b[0;31m             \u001b[0;32mreturn\u001b[0m \u001b[0mfn\u001b[0m\u001b[0;34m(\u001b[0m\u001b[0;34m*\u001b[0m\u001b[0margs\u001b[0m\u001b[0;34m,\u001b[0m \u001b[0;34m**\u001b[0m\u001b[0mkwargs\u001b[0m\u001b[0;34m)\u001b[0m\u001b[0;34m\u001b[0m\u001b[0;34m\u001b[0m\u001b[0m\n\u001b[0m\u001b[1;32m     66\u001b[0m         \u001b[0;32mexcept\u001b[0m \u001b[0mException\u001b[0m \u001b[0;32mas\u001b[0m \u001b[0me\u001b[0m\u001b[0;34m:\u001b[0m\u001b[0;34m\u001b[0m\u001b[0;34m\u001b[0m\u001b[0m\n\u001b[1;32m     67\u001b[0m             \u001b[0mfiltered_tb\u001b[0m \u001b[0;34m=\u001b[0m \u001b[0m_process_traceback_frames\u001b[0m\u001b[0;34m(\u001b[0m\u001b[0me\u001b[0m\u001b[0;34m.\u001b[0m\u001b[0m__traceback__\u001b[0m\u001b[0;34m)\u001b[0m\u001b[0;34m\u001b[0m\u001b[0;34m\u001b[0m\u001b[0m\n",
            "\u001b[0;32m/usr/local/lib/python3.10/dist-packages/keras/src/engine/training.py\u001b[0m in \u001b[0;36mfit\u001b[0;34m(self, x, y, batch_size, epochs, verbose, callbacks, validation_split, validation_data, shuffle, class_weight, sample_weight, initial_epoch, steps_per_epoch, validation_steps, validation_batch_size, validation_freq, max_queue_size, workers, use_multiprocessing)\u001b[0m\n\u001b[1;32m   1805\u001b[0m                         ):\n\u001b[1;32m   1806\u001b[0m                             \u001b[0mcallbacks\u001b[0m\u001b[0;34m.\u001b[0m\u001b[0mon_train_batch_begin\u001b[0m\u001b[0;34m(\u001b[0m\u001b[0mstep\u001b[0m\u001b[0;34m)\u001b[0m\u001b[0;34m\u001b[0m\u001b[0;34m\u001b[0m\u001b[0m\n\u001b[0;32m-> 1807\u001b[0;31m                             \u001b[0mtmp_logs\u001b[0m \u001b[0;34m=\u001b[0m \u001b[0mself\u001b[0m\u001b[0;34m.\u001b[0m\u001b[0mtrain_function\u001b[0m\u001b[0;34m(\u001b[0m\u001b[0miterator\u001b[0m\u001b[0;34m)\u001b[0m\u001b[0;34m\u001b[0m\u001b[0;34m\u001b[0m\u001b[0m\n\u001b[0m\u001b[1;32m   1808\u001b[0m                             \u001b[0;32mif\u001b[0m \u001b[0mdata_handler\u001b[0m\u001b[0;34m.\u001b[0m\u001b[0mshould_sync\u001b[0m\u001b[0;34m:\u001b[0m\u001b[0;34m\u001b[0m\u001b[0;34m\u001b[0m\u001b[0m\n\u001b[1;32m   1809\u001b[0m                                 \u001b[0mcontext\u001b[0m\u001b[0;34m.\u001b[0m\u001b[0masync_wait\u001b[0m\u001b[0;34m(\u001b[0m\u001b[0;34m)\u001b[0m\u001b[0;34m\u001b[0m\u001b[0;34m\u001b[0m\u001b[0m\n",
            "\u001b[0;32m/usr/local/lib/python3.10/dist-packages/tensorflow/python/util/traceback_utils.py\u001b[0m in \u001b[0;36merror_handler\u001b[0;34m(*args, **kwargs)\u001b[0m\n\u001b[1;32m    148\u001b[0m     \u001b[0mfiltered_tb\u001b[0m \u001b[0;34m=\u001b[0m \u001b[0;32mNone\u001b[0m\u001b[0;34m\u001b[0m\u001b[0;34m\u001b[0m\u001b[0m\n\u001b[1;32m    149\u001b[0m     \u001b[0;32mtry\u001b[0m\u001b[0;34m:\u001b[0m\u001b[0;34m\u001b[0m\u001b[0;34m\u001b[0m\u001b[0m\n\u001b[0;32m--> 150\u001b[0;31m       \u001b[0;32mreturn\u001b[0m \u001b[0mfn\u001b[0m\u001b[0;34m(\u001b[0m\u001b[0;34m*\u001b[0m\u001b[0margs\u001b[0m\u001b[0;34m,\u001b[0m \u001b[0;34m**\u001b[0m\u001b[0mkwargs\u001b[0m\u001b[0;34m)\u001b[0m\u001b[0;34m\u001b[0m\u001b[0;34m\u001b[0m\u001b[0m\n\u001b[0m\u001b[1;32m    151\u001b[0m     \u001b[0;32mexcept\u001b[0m \u001b[0mException\u001b[0m \u001b[0;32mas\u001b[0m \u001b[0me\u001b[0m\u001b[0;34m:\u001b[0m\u001b[0;34m\u001b[0m\u001b[0;34m\u001b[0m\u001b[0m\n\u001b[1;32m    152\u001b[0m       \u001b[0mfiltered_tb\u001b[0m \u001b[0;34m=\u001b[0m \u001b[0m_process_traceback_frames\u001b[0m\u001b[0;34m(\u001b[0m\u001b[0me\u001b[0m\u001b[0;34m.\u001b[0m\u001b[0m__traceback__\u001b[0m\u001b[0;34m)\u001b[0m\u001b[0;34m\u001b[0m\u001b[0;34m\u001b[0m\u001b[0m\n",
            "\u001b[0;32m/usr/local/lib/python3.10/dist-packages/tensorflow/python/eager/polymorphic_function/polymorphic_function.py\u001b[0m in \u001b[0;36m__call__\u001b[0;34m(self, *args, **kwds)\u001b[0m\n\u001b[1;32m    830\u001b[0m \u001b[0;34m\u001b[0m\u001b[0m\n\u001b[1;32m    831\u001b[0m       \u001b[0;32mwith\u001b[0m \u001b[0mOptionalXlaContext\u001b[0m\u001b[0;34m(\u001b[0m\u001b[0mself\u001b[0m\u001b[0;34m.\u001b[0m\u001b[0m_jit_compile\u001b[0m\u001b[0;34m)\u001b[0m\u001b[0;34m:\u001b[0m\u001b[0;34m\u001b[0m\u001b[0;34m\u001b[0m\u001b[0m\n\u001b[0;32m--> 832\u001b[0;31m         \u001b[0mresult\u001b[0m \u001b[0;34m=\u001b[0m \u001b[0mself\u001b[0m\u001b[0;34m.\u001b[0m\u001b[0m_call\u001b[0m\u001b[0;34m(\u001b[0m\u001b[0;34m*\u001b[0m\u001b[0margs\u001b[0m\u001b[0;34m,\u001b[0m \u001b[0;34m**\u001b[0m\u001b[0mkwds\u001b[0m\u001b[0;34m)\u001b[0m\u001b[0;34m\u001b[0m\u001b[0;34m\u001b[0m\u001b[0m\n\u001b[0m\u001b[1;32m    833\u001b[0m \u001b[0;34m\u001b[0m\u001b[0m\n\u001b[1;32m    834\u001b[0m       \u001b[0mnew_tracing_count\u001b[0m \u001b[0;34m=\u001b[0m \u001b[0mself\u001b[0m\u001b[0;34m.\u001b[0m\u001b[0mexperimental_get_tracing_count\u001b[0m\u001b[0;34m(\u001b[0m\u001b[0;34m)\u001b[0m\u001b[0;34m\u001b[0m\u001b[0;34m\u001b[0m\u001b[0m\n",
            "\u001b[0;32m/usr/local/lib/python3.10/dist-packages/tensorflow/python/eager/polymorphic_function/polymorphic_function.py\u001b[0m in \u001b[0;36m_call\u001b[0;34m(self, *args, **kwds)\u001b[0m\n\u001b[1;32m    866\u001b[0m       \u001b[0;31m# In this case we have created variables on the first call, so we run the\u001b[0m\u001b[0;34m\u001b[0m\u001b[0;34m\u001b[0m\u001b[0m\n\u001b[1;32m    867\u001b[0m       \u001b[0;31m# defunned version which is guaranteed to never create variables.\u001b[0m\u001b[0;34m\u001b[0m\u001b[0;34m\u001b[0m\u001b[0m\n\u001b[0;32m--> 868\u001b[0;31m       return tracing_compilation.call_function(\n\u001b[0m\u001b[1;32m    869\u001b[0m           \u001b[0margs\u001b[0m\u001b[0;34m,\u001b[0m \u001b[0mkwds\u001b[0m\u001b[0;34m,\u001b[0m \u001b[0mself\u001b[0m\u001b[0;34m.\u001b[0m\u001b[0m_no_variable_creation_config\u001b[0m\u001b[0;34m\u001b[0m\u001b[0;34m\u001b[0m\u001b[0m\n\u001b[1;32m    870\u001b[0m       )\n",
            "\u001b[0;32m/usr/local/lib/python3.10/dist-packages/tensorflow/python/eager/polymorphic_function/tracing_compilation.py\u001b[0m in \u001b[0;36mcall_function\u001b[0;34m(args, kwargs, tracing_options)\u001b[0m\n\u001b[1;32m    137\u001b[0m   \u001b[0mbound_args\u001b[0m \u001b[0;34m=\u001b[0m \u001b[0mfunction\u001b[0m\u001b[0;34m.\u001b[0m\u001b[0mfunction_type\u001b[0m\u001b[0;34m.\u001b[0m\u001b[0mbind\u001b[0m\u001b[0;34m(\u001b[0m\u001b[0;34m*\u001b[0m\u001b[0margs\u001b[0m\u001b[0;34m,\u001b[0m \u001b[0;34m**\u001b[0m\u001b[0mkwargs\u001b[0m\u001b[0;34m)\u001b[0m\u001b[0;34m\u001b[0m\u001b[0;34m\u001b[0m\u001b[0m\n\u001b[1;32m    138\u001b[0m   \u001b[0mflat_inputs\u001b[0m \u001b[0;34m=\u001b[0m \u001b[0mfunction\u001b[0m\u001b[0;34m.\u001b[0m\u001b[0mfunction_type\u001b[0m\u001b[0;34m.\u001b[0m\u001b[0munpack_inputs\u001b[0m\u001b[0;34m(\u001b[0m\u001b[0mbound_args\u001b[0m\u001b[0;34m)\u001b[0m\u001b[0;34m\u001b[0m\u001b[0;34m\u001b[0m\u001b[0m\n\u001b[0;32m--> 139\u001b[0;31m   return function._call_flat(  # pylint: disable=protected-access\n\u001b[0m\u001b[1;32m    140\u001b[0m       \u001b[0mflat_inputs\u001b[0m\u001b[0;34m,\u001b[0m \u001b[0mcaptured_inputs\u001b[0m\u001b[0;34m=\u001b[0m\u001b[0mfunction\u001b[0m\u001b[0;34m.\u001b[0m\u001b[0mcaptured_inputs\u001b[0m\u001b[0;34m\u001b[0m\u001b[0;34m\u001b[0m\u001b[0m\n\u001b[1;32m    141\u001b[0m   )\n",
            "\u001b[0;32m/usr/local/lib/python3.10/dist-packages/tensorflow/python/eager/polymorphic_function/concrete_function.py\u001b[0m in \u001b[0;36m_call_flat\u001b[0;34m(self, tensor_inputs, captured_inputs)\u001b[0m\n\u001b[1;32m   1321\u001b[0m         and executing_eagerly):\n\u001b[1;32m   1322\u001b[0m       \u001b[0;31m# No tape is watching; skip to running the function.\u001b[0m\u001b[0;34m\u001b[0m\u001b[0;34m\u001b[0m\u001b[0m\n\u001b[0;32m-> 1323\u001b[0;31m       \u001b[0;32mreturn\u001b[0m \u001b[0mself\u001b[0m\u001b[0;34m.\u001b[0m\u001b[0m_inference_function\u001b[0m\u001b[0;34m.\u001b[0m\u001b[0mcall_preflattened\u001b[0m\u001b[0;34m(\u001b[0m\u001b[0margs\u001b[0m\u001b[0;34m)\u001b[0m\u001b[0;34m\u001b[0m\u001b[0;34m\u001b[0m\u001b[0m\n\u001b[0m\u001b[1;32m   1324\u001b[0m     forward_backward = self._select_forward_and_backward_functions(\n\u001b[1;32m   1325\u001b[0m         \u001b[0margs\u001b[0m\u001b[0;34m,\u001b[0m\u001b[0;34m\u001b[0m\u001b[0;34m\u001b[0m\u001b[0m\n",
            "\u001b[0;32m/usr/local/lib/python3.10/dist-packages/tensorflow/python/eager/polymorphic_function/atomic_function.py\u001b[0m in \u001b[0;36mcall_preflattened\u001b[0;34m(self, args)\u001b[0m\n\u001b[1;32m    214\u001b[0m   \u001b[0;32mdef\u001b[0m \u001b[0mcall_preflattened\u001b[0m\u001b[0;34m(\u001b[0m\u001b[0mself\u001b[0m\u001b[0;34m,\u001b[0m \u001b[0margs\u001b[0m\u001b[0;34m:\u001b[0m \u001b[0mSequence\u001b[0m\u001b[0;34m[\u001b[0m\u001b[0mcore\u001b[0m\u001b[0;34m.\u001b[0m\u001b[0mTensor\u001b[0m\u001b[0;34m]\u001b[0m\u001b[0;34m)\u001b[0m \u001b[0;34m->\u001b[0m \u001b[0mAny\u001b[0m\u001b[0;34m:\u001b[0m\u001b[0;34m\u001b[0m\u001b[0;34m\u001b[0m\u001b[0m\n\u001b[1;32m    215\u001b[0m     \u001b[0;34m\"\"\"Calls with flattened tensor inputs and returns the structured output.\"\"\"\u001b[0m\u001b[0;34m\u001b[0m\u001b[0;34m\u001b[0m\u001b[0m\n\u001b[0;32m--> 216\u001b[0;31m     \u001b[0mflat_outputs\u001b[0m \u001b[0;34m=\u001b[0m \u001b[0mself\u001b[0m\u001b[0;34m.\u001b[0m\u001b[0mcall_flat\u001b[0m\u001b[0;34m(\u001b[0m\u001b[0;34m*\u001b[0m\u001b[0margs\u001b[0m\u001b[0;34m)\u001b[0m\u001b[0;34m\u001b[0m\u001b[0;34m\u001b[0m\u001b[0m\n\u001b[0m\u001b[1;32m    217\u001b[0m     \u001b[0;32mreturn\u001b[0m \u001b[0mself\u001b[0m\u001b[0;34m.\u001b[0m\u001b[0mfunction_type\u001b[0m\u001b[0;34m.\u001b[0m\u001b[0mpack_output\u001b[0m\u001b[0;34m(\u001b[0m\u001b[0mflat_outputs\u001b[0m\u001b[0;34m)\u001b[0m\u001b[0;34m\u001b[0m\u001b[0;34m\u001b[0m\u001b[0m\n\u001b[1;32m    218\u001b[0m \u001b[0;34m\u001b[0m\u001b[0m\n",
            "\u001b[0;32m/usr/local/lib/python3.10/dist-packages/tensorflow/python/eager/polymorphic_function/atomic_function.py\u001b[0m in \u001b[0;36mcall_flat\u001b[0;34m(self, *args)\u001b[0m\n\u001b[1;32m    249\u001b[0m         \u001b[0;32mwith\u001b[0m \u001b[0mrecord\u001b[0m\u001b[0;34m.\u001b[0m\u001b[0mstop_recording\u001b[0m\u001b[0;34m(\u001b[0m\u001b[0;34m)\u001b[0m\u001b[0;34m:\u001b[0m\u001b[0;34m\u001b[0m\u001b[0;34m\u001b[0m\u001b[0m\n\u001b[1;32m    250\u001b[0m           \u001b[0;32mif\u001b[0m \u001b[0mself\u001b[0m\u001b[0;34m.\u001b[0m\u001b[0m_bound_context\u001b[0m\u001b[0;34m.\u001b[0m\u001b[0mexecuting_eagerly\u001b[0m\u001b[0;34m(\u001b[0m\u001b[0;34m)\u001b[0m\u001b[0;34m:\u001b[0m\u001b[0;34m\u001b[0m\u001b[0;34m\u001b[0m\u001b[0m\n\u001b[0;32m--> 251\u001b[0;31m             outputs = self._bound_context.call_function(\n\u001b[0m\u001b[1;32m    252\u001b[0m                 \u001b[0mself\u001b[0m\u001b[0;34m.\u001b[0m\u001b[0mname\u001b[0m\u001b[0;34m,\u001b[0m\u001b[0;34m\u001b[0m\u001b[0;34m\u001b[0m\u001b[0m\n\u001b[1;32m    253\u001b[0m                 \u001b[0mlist\u001b[0m\u001b[0;34m(\u001b[0m\u001b[0margs\u001b[0m\u001b[0;34m)\u001b[0m\u001b[0;34m,\u001b[0m\u001b[0;34m\u001b[0m\u001b[0;34m\u001b[0m\u001b[0m\n",
            "\u001b[0;32m/usr/local/lib/python3.10/dist-packages/tensorflow/python/eager/context.py\u001b[0m in \u001b[0;36mcall_function\u001b[0;34m(self, name, tensor_inputs, num_outputs)\u001b[0m\n\u001b[1;32m   1484\u001b[0m     \u001b[0mcancellation_context\u001b[0m \u001b[0;34m=\u001b[0m \u001b[0mcancellation\u001b[0m\u001b[0;34m.\u001b[0m\u001b[0mcontext\u001b[0m\u001b[0;34m(\u001b[0m\u001b[0;34m)\u001b[0m\u001b[0;34m\u001b[0m\u001b[0;34m\u001b[0m\u001b[0m\n\u001b[1;32m   1485\u001b[0m     \u001b[0;32mif\u001b[0m \u001b[0mcancellation_context\u001b[0m \u001b[0;32mis\u001b[0m \u001b[0;32mNone\u001b[0m\u001b[0;34m:\u001b[0m\u001b[0;34m\u001b[0m\u001b[0;34m\u001b[0m\u001b[0m\n\u001b[0;32m-> 1486\u001b[0;31m       outputs = execute.execute(\n\u001b[0m\u001b[1;32m   1487\u001b[0m           \u001b[0mname\u001b[0m\u001b[0;34m.\u001b[0m\u001b[0mdecode\u001b[0m\u001b[0;34m(\u001b[0m\u001b[0;34m\"utf-8\"\u001b[0m\u001b[0;34m)\u001b[0m\u001b[0;34m,\u001b[0m\u001b[0;34m\u001b[0m\u001b[0;34m\u001b[0m\u001b[0m\n\u001b[1;32m   1488\u001b[0m           \u001b[0mnum_outputs\u001b[0m\u001b[0;34m=\u001b[0m\u001b[0mnum_outputs\u001b[0m\u001b[0;34m,\u001b[0m\u001b[0;34m\u001b[0m\u001b[0;34m\u001b[0m\u001b[0m\n",
            "\u001b[0;32m/usr/local/lib/python3.10/dist-packages/tensorflow/python/eager/execute.py\u001b[0m in \u001b[0;36mquick_execute\u001b[0;34m(op_name, num_outputs, inputs, attrs, ctx, name)\u001b[0m\n\u001b[1;32m     51\u001b[0m   \u001b[0;32mtry\u001b[0m\u001b[0;34m:\u001b[0m\u001b[0;34m\u001b[0m\u001b[0;34m\u001b[0m\u001b[0m\n\u001b[1;32m     52\u001b[0m     \u001b[0mctx\u001b[0m\u001b[0;34m.\u001b[0m\u001b[0mensure_initialized\u001b[0m\u001b[0;34m(\u001b[0m\u001b[0;34m)\u001b[0m\u001b[0;34m\u001b[0m\u001b[0;34m\u001b[0m\u001b[0m\n\u001b[0;32m---> 53\u001b[0;31m     tensors = pywrap_tfe.TFE_Py_Execute(ctx._handle, device_name, op_name,\n\u001b[0m\u001b[1;32m     54\u001b[0m                                         inputs, attrs, num_outputs)\n\u001b[1;32m     55\u001b[0m   \u001b[0;32mexcept\u001b[0m \u001b[0mcore\u001b[0m\u001b[0;34m.\u001b[0m\u001b[0m_NotOkStatusException\u001b[0m \u001b[0;32mas\u001b[0m \u001b[0me\u001b[0m\u001b[0;34m:\u001b[0m\u001b[0;34m\u001b[0m\u001b[0;34m\u001b[0m\u001b[0m\n",
            "\u001b[0;31mKeyboardInterrupt\u001b[0m: "
          ]
        }
      ],
      "source": [
        "# --- Создание модели LSTM ---\n",
        "model_lstm = Sequential()\n",
        "model_lstm.add(Embedding(total_words, 50, input_length=max_sequence_len-1))\n",
        "model_lstm.add(LSTM(256, return_sequences=True))  # Добавлен параметр return_sequences=True\n",
        "model_lstm.add(Dropout(0.2))\n",
        "model_lstm.add(LSTM(256))\n",
        "model_lstm.add(Dropout(0.2))\n",
        "model_lstm.add(Dense(total_words, activation='softmax'))\n",
        "model_lstm.compile(loss='categorical_crossentropy', optimizer='adam')\n",
        "\n",
        "# --- Обучение модели LSTM ---\n",
        "early_stopping = EarlyStopping(monitor='loss', patience=10)\n",
        "history_lstm = model_lstm.fit(X, y, batch_size=64, epochs=50, callbacks=[early_stopping])"
      ]
    },
    {
      "cell_type": "code",
      "execution_count": null,
      "metadata": {
        "id": "6oPP0_5evtcd"
      },
      "outputs": [],
      "source": [
        "# --- Функция для построения графиков ---\n",
        "import matplotlib.pyplot as plt\n",
        "\n",
        "# --- Функция для построения графиков ---\n",
        "def plot_graphs(history, history_lstm):\n",
        "    # Построение графика функции потерь\n",
        "    plt.plot(history.history['loss'], label='Vanilla RNN')\n",
        "    plt.plot(history_lstm.history['loss'], label='LSTM')\n",
        "    plt.title('Loss Function Comparison')\n",
        "    plt.xlabel('Epochs')\n",
        "    plt.ylabel('Loss')\n",
        "    plt.legend()\n",
        "    plt.show()\n",
        "\n",
        "# Пример использования функции для построения графика\n",
        "# Предполагается, что history и history_lstm - это объекты возвращаемые методом fit модели\n",
        "# plot_graphs(history, history_lstm)"
      ]
    },
    {
      "cell_type": "code",
      "source": [
        "# --- Функция для построения графиков ---\n",
        "def plot_graphs(history, history_lstm):\n",
        "    # Построение графика функции потерь\n",
        "    plt.plot(history.history['loss'], label='Vanilla RNN')\n",
        "    plt.plot(history_lstm.history['loss'], label='LSTM')\n",
        "    plt.title('Loss Function Comparison')\n",
        "    plt.xlabel('Epochs')\n",
        "    plt.ylabel('Loss')\n",
        "    plt.legend()\n",
        "    plt.show()"
      ],
      "metadata": {
        "id": "xGmdRiEnirZ7"
      },
      "execution_count": null,
      "outputs": []
    },
    {
      "cell_type": "code",
      "execution_count": null,
      "metadata": {
        "id": "M0_L7Qvkvu2W"
      },
      "outputs": [],
      "source": [
        "\n",
        "# --- Генерация текста ---\n",
        "def generate_text(seed_text, next_words=20):\n",
        "    for _ in range(next_words):\n",
        "        token_list = tokenizer.texts_to_sequences([seed_text])[0]\n",
        "        token_list = pad_sequences([token_list], maxlen=max_sequence_len-1, padding='pre')\n",
        "        predicted = model.predict(token_list, verbose=0)\n",
        "        predicted_index = np.argmax(predicted)\n",
        "        output_word = \"\"\n",
        "        for word, index in tokenizer.word_index.items():\n",
        "            if index == predicted_index:\n",
        "                output_word = word\n",
        "                break\n",
        "        seed_text += \" \" + output_word\n",
        "    return seed_text\n",
        "\n",
        "if __name__ == '__main__':\n",
        "    # Этот код должен быть определен до вызова main()\n",
        "    # X, y, tokenizer, max_sequence_len, total_words = ...\n",
        "    # main(X, y, tokenizer, max_sequence_len, total_words)\n",
        "    pass"
      ]
    },
    {
      "cell_type": "code",
      "source": [
        "pip install rouge"
      ],
      "metadata": {
        "colab": {
          "base_uri": "https://localhost:8080/"
        },
        "id": "15jj_Grjl4mi",
        "outputId": "8630c5a9-8919-40c2-f575-b462fae9d9da"
      },
      "execution_count": 19,
      "outputs": [
        {
          "output_type": "stream",
          "name": "stdout",
          "text": [
            "Collecting rouge\n",
            "  Downloading rouge-1.0.1-py3-none-any.whl (13 kB)\n",
            "Requirement already satisfied: six in /usr/local/lib/python3.10/dist-packages (from rouge) (1.16.0)\n",
            "Installing collected packages: rouge\n",
            "Successfully installed rouge-1.0.1\n"
          ]
        }
      ]
    },
    {
      "cell_type": "code",
      "source": [
        "from nltk.translate.bleu_score import sentence_bleu\n",
        "from rouge import Rouge\n",
        "\n",
        "def calculate_bleu_score(reference, candidate):\n",
        "    return sentence_bleu([reference], candidate)\n",
        "\n",
        "def calculate_rouge_score(reference, candidate):\n",
        "    rouge = Rouge()\n",
        "    scores = rouge.get_scores(candidate, reference)\n",
        "    return scores[0]['rouge-l']['f']\n",
        "\n",
        "# Пример использования\n",
        "reference = \"The cat is on the mat.\"\n",
        "candidate = \"The cat is under the mat.\"\n",
        "\n",
        "bleu_score = calculate_bleu_score(reference, candidate)\n",
        "rouge_score = calculate_rouge_score(reference, candidate)\n",
        "\n",
        "print(f\"BLEU Score: {bleu_score}\")\n",
        "print(f\"ROUGE Score: {rouge_score}\")"
      ],
      "metadata": {
        "colab": {
          "base_uri": "https://localhost:8080/"
        },
        "id": "ALOZ00wUl7Lq",
        "outputId": "8224e53a-2cf6-4097-ebff-c1f7cfc7f729"
      },
      "execution_count": 20,
      "outputs": [
        {
          "output_type": "stream",
          "name": "stdout",
          "text": [
            "BLEU Score: 0.7267072830982378\n",
            "ROUGE Score: 0.8333333283333335\n"
          ]
        }
      ]
    },
    {
      "cell_type": "code",
      "execution_count": null,
      "metadata": {
        "id": "yJInOi99uhJt"
      },
      "outputs": [],
      "source": [
        "# --- Функция для генерации текста по словам ---\n",
        "def generate_text(seed_text, next_words=20):\n",
        "    for _ in range(next_words):\n",
        "        token_list = tokenizer.texts_to_sequences([seed_text])[0]\n",
        "        token_list = pad_sequences([token_list], maxlen=max_sequence_len-1, padding='pre')\n",
        "        predicted = model_lstm.predict(token_list, verbose=0)  # Использование модели LSTM\n",
        "        predicted_index = np.argmax(predicted)\n",
        "        for word, index in tokenizer.word_index.items():\n",
        "            if index == predicted_index:\n",
        "                output_word = word\n",
        "                break\n",
        "        seed_text += \" \" + output_word\n",
        "    return seed_text\n"
      ]
    },
    {
      "cell_type": "code",
      "execution_count": null,
      "metadata": {
        "id": "WKGUBdQZezDO"
      },
      "outputs": [],
      "source": [
        "import numpy as np\n",
        "from tensorflow.keras.models import Sequential\n",
        "from tensorflow.keras.layers import LSTM, Dense, Embedding, Dropout\n",
        "from tensorflow.keras.preprocessing.text import Tokenizer\n",
        "from tensorflow.keras.preprocessing.sequence import pad_sequences\n",
        "from tensorflow.keras.callbacks import EarlyStopping\n",
        "\n",
        "# --- Загрузка данных ---\n",
        "\n",
        "with open('onegin.txt', 'r', encoding='utf-8') as file:\n",
        "    text = file.read().replace('\\n', ' ').lower()\n",
        "\n",
        "# --- Подготовка данных с использованием Word Embeddings ---\n",
        "tokenizer = Tokenizer()\n",
        "tokenizer.fit_on_texts([text])\n",
        "total_words = len(tokenizer.word_index) + 1\n",
        "\n",
        "input_sequences = []\n",
        "for line in text.split('.'):\n",
        "    token_list = tokenizer.texts_to_sequences([line])[0]\n",
        "    for i in range(1, len(token_list)):\n",
        "        n_gram_sequence = token_list[:i+1]\n",
        "        input_sequences.append(n_gram_sequence)\n",
        "\n",
        "max_sequence_len = max([len(x) for x in input_sequences])\n",
        "input_sequences = np.array(pad_sequences(input_sequences, maxlen=max_sequence_len, padding='pre'))\n",
        "\n",
        "X = input_sequences[:,:-1]\n",
        "y = np.array(input_sequences[:,-1])\n",
        "y = np.eye(total_words)[y]  # One-hot encode\n",
        "\n",
        "# --- Создание модели ---\n",
        "model = Sequential()\n",
        "model.add(Embedding(total_words, 200, input_length=max_sequence_len-1))  # Увеличена размерность эмбеддингов\n",
        "model.add(LSTM(256))  # Увеличено количество нейронов в LSTM\n",
        "model.add(Dropout(0.2))  # Добавлен Dropout\n",
        "model.add(Dense(total_words, activation='softmax'))\n",
        "model.compile(loss='categorical_crossentropy', optimizer='adam')\n",
        "\n",
        "# --- Обучение модели ---\n",
        "early_stopping = EarlyStopping(monitor='loss', patience=10) # Изменено на monitor='loss'\n",
        "model.fit(X, y, batch_size=64, epochs=200, callbacks=[early_stopping])\n",
        "\n",
        "# --- Функция для генерации текста по словам ---\n",
        "def generate_text(seed_text, next_words=20):\n",
        "    for _ in range(next_words):\n",
        "        token_list = tokenizer.texts_to_sequences([seed_text])[0]\n",
        "        token_list = pad_sequences([token_list], maxlen=max_sequence_len-1, padding='pre')\n",
        "        predicted = model.predict(token_list, verbose=0)\n",
        "        predicted_index = np.argmax(predicted)\n",
        "        output_word = \"\"\n",
        "        for word, index in tokenizer.word_index.items():\n",
        "            if index == predicted_index:\n",
        "                output_word = word\n",
        "                break\n",
        "        seed_text += \" \" + output_word\n",
        "    return seed_text\n",
        "\n",
        "# --- Пример использования ---\n",
        "new_text = generate_text(\"Пример текста\", next_words=10)\n",
        "print(new_text)"
      ]
    },
    {
      "cell_type": "code",
      "execution_count": null,
      "metadata": {
        "id": "kYzbPquBm4ER"
      },
      "outputs": [],
      "source": [
        "import numpy as np\n",
        "from tensorflow.keras.models import Sequential\n",
        "from tensorflow.keras.layers import LSTM, Dense, Embedding, Dropout\n",
        "from tensorflow.keras.preprocessing.text import Tokenizer\n",
        "from tensorflow.keras.preprocessing.sequence import pad_sequences\n",
        "from tensorflow.keras.callbacks import EarlyStopping\n",
        "\n",
        "# --- Загрузка данных ---\n",
        "\n",
        "with open('onegin.txt', 'r') as f:\n",
        "    text = f.read()\n",
        "\n",
        "# --- Подготовка данных с использованием Word Embeddings ---\n",
        "tokenizer = Tokenizer()\n",
        "tokenizer.fit_on_texts([text])\n",
        "total_words = len(tokenizer.word_index) + 1\n",
        "\n",
        "input_sequences = []\n",
        "for line in text.split('.'):\n",
        "    token_list = tokenizer.texts_to_sequences([line])[0]\n",
        "    for i in range(1, len(token_list)):\n",
        "        n_gram_sequence = token_list[:i+1]\n",
        "        input_sequences.append(n_gram_sequence)\n",
        "\n",
        "max_sequence_len = max([len(x) for x in input_sequences])\n",
        "input_sequences = np.array(pad_sequences(input_sequences, maxlen=max_sequence_len, padding='pre'))\n",
        "\n",
        "X = input_sequences[:,:-1]\n",
        "y = np.array(input_sequences[:,-1])\n",
        "y = np.eye(total_words)[y]  # One-hot encode\n",
        "\n",
        "# --- Создание модели ---\n",
        "model = Sequential()\n",
        "model.add(Embedding(total_words, 200, input_length=max_sequence_len-1))  # Увеличена размерность эмбеддингов\n",
        "model.add(LSTM(256))  # Увеличено количество нейронов в LSTM\n",
        "model.add(Dropout(0.2))  # Добавлен Dropout\n",
        "model.add(Dense(total_words, activation='softmax'))\n",
        "model.compile(loss='categorical_crossentropy', optimizer='adam')\n",
        "\n",
        "# --- Обучение модели ---\n",
        "early_stopping = EarlyStopping(monitor='loss', patience=10) # Изменено на monitor='loss'\n",
        "model.fit(X, y, batch_size=64, epochs=200, callbacks=[early_stopping])\n",
        "\n",
        "# --- Функция для генерации текста по словам ---\n",
        "def generate_text(seed_text, next_words=20):\n",
        "    for _ in range(next_words):\n",
        "        token_list = tokenizer.texts_to_sequences([seed_text])[0]\n",
        "        token_list = pad_sequences([token_list], maxlen=max_sequence_len-1, padding='pre')\n",
        "        predicted = model.predict(token_list, verbose=0)\n",
        "        predicted_index = np.argmax(predicted)\n",
        "        output_word = \"\"\n",
        "        for word, index in tokenizer.word_index.items():\n",
        "            if index == predicted_index:\n",
        "                output_word = word\n",
        "                break\n",
        "        seed_text += \" \" + output_word\n",
        "    return seed_text\n",
        "\n",
        "# --- Пример использования ---\n",
        "new_text = generate_text(\"Пример текста\", next_words=10)\n",
        "print(new_text)\n"
      ]
    },
    {
      "cell_type": "markdown",
      "metadata": {
        "id": "ilU3qd4CRP8z"
      },
      "source": [
        "### More poetic model\n",
        "\n",
        "Let's use LSTM instead of vanilla RNN and compare the results."
      ]
    },
    {
      "cell_type": "markdown",
      "metadata": {
        "id": "TQe1VKaORP8z"
      },
      "source": [
        "Plot the loss function of the number of epochs. Does the final loss become better?"
      ]
    },
    {
      "cell_type": "code",
      "execution_count": null,
      "metadata": {
        "collapsed": true,
        "id": "WaBGU-frRP80"
      },
      "outputs": [],
      "source": [
        "# Your beautiful code here\n",
        "import numpy as np\n",
        "from tensorflow.keras.models import Sequential\n",
        "from tensorflow.keras.layers import LSTM, Dense, Embedding, Dropout\n",
        "from tensorflow.keras.preprocessing.text import Tokenizer\n",
        "from tensorflow.keras.preprocessing.sequence import pad_sequences\n",
        "from tensorflow.keras.callbacks import EarlyStopping\n",
        "\n",
        "# --- Загрузка данных ---\n",
        "\n",
        "with open('onegin.txt', 'r') as f:\n",
        "    text = f.read()\n",
        "# --- Подготовка данных с использованием Word Embeddings ---\n",
        "tokenizer = Tokenizer()\n",
        "tokenizer.fit_on_texts([text])\n",
        "total_words = len(tokenizer.word_index) + 1\n",
        "\n",
        "input_sequences = []\n",
        "for line in text.split('.'):\n",
        "    token_list = tokenizer.texts_to_sequences([line])[0]\n",
        "    for i in range(1, len(token_list)):\n",
        "        n_gram_sequence = token_list[:i+1]\n",
        "        input_sequences.append(n_gram_sequence)\n",
        "\n",
        "max_sequence_len = max([len(x) for x in input_sequences])\n",
        "input_sequences = np.array(pad_sequences(input_sequences, maxlen=max_sequence_len, padding='pre'))\n",
        "\n",
        "X = input_sequences[:,:-1]\n",
        "y = np.array(input_sequences[:,-1])\n",
        "y = np.eye(total_words)[y]  # One-hot encode\n",
        "\n",
        "\n",
        "# --- Создание модели LSTM ---\n",
        "model_lstm = Sequential()\n",
        "model_lstm.add(Embedding(total_words, 200, input_length=max_sequence_len-1))\n",
        "model_lstm.add(LSTM(256, return_sequences=True))  # Добавлен параметр return_sequences=True\n",
        "model_lstm.add(Dropout(0.2))\n",
        "model_lstm.add(LSTM(256))\n",
        "model_lstm.add(Dropout(0.2))\n",
        "model_lstm.add(Dense(total_words, activation='softmax'))\n",
        "model_lstm.compile(loss='categorical_crossentropy', optimizer='adam')\n",
        "\n",
        "# --- Обучение модели LSTM ---\n",
        "early_stopping = EarlyStopping(monitor='loss', patience=10)\n",
        "history_lstm = model_lstm.fit(X, y, batch_size=64, epochs=200, callbacks=[early_stopping])\n",
        "\n",
        "# ... (Остальной код остается таким же)\n",
        "\n",
        "# --- Функция для генерации текста по словам ---\n",
        "# --- Функция для генерации текста по словам ---\n",
        "def generate_text(seed_text, next_words=20):\n",
        "    for _ in range(next_words):\n",
        "        token_list = tokenizer.texts_to_sequences([seed_text])[0]\n",
        "        token_list = pad_sequences([token_list], maxlen=max_sequence_len-1, padding='pre')\n",
        "        predicted = model_lstm.predict(token_list, verbose=0)  # Использование модели LSTM\n",
        "        predicted_index = np.argmax(predicted)\n",
        "        for word, index in tokenizer.word_index.items():\n",
        "            if index == predicted_index:\n",
        "                output_word = word\n",
        "                break\n",
        "        seed_text += \" \" + output_word\n",
        "    return seed_text\n",
        "\n",
        "\n",
        "\n",
        "# --- Пример использования ---\n",
        "new_text = generate_text(\"Пример текста\", next_words=10)\n",
        "print(new_text)\n"
      ]
    },
    {
      "cell_type": "code",
      "source": [
        "from nltk.translate.bleu_score import sentence_bleu\n",
        "from rouge import Rouge\n",
        "\n",
        "def calculate_bleu_score(reference, candidate):\n",
        "    return sentence_bleu([reference.split()], candidate.split())\n",
        "\n",
        "def calculate_rouge_score(reference, candidate):\n",
        "    rouge = Rouge()\n",
        "    scores = rouge.get_scores(candidate, reference)\n",
        "    return scores[0]['rouge-l']['f']\n",
        "\n",
        "# Пример использования\n",
        "reference = \"The cat is on the mat.\"\n",
        "candidate = \"The cat is under the mat.\"\n",
        "\n",
        "bleu_score = calculate_bleu_score(reference, candidate)\n",
        "rouge_score = calculate_rouge_score(reference, candidate)\n",
        "\n",
        "print(f\"BLEU Score: {bleu_score}\")\n",
        "print(f\"ROUGE Score: {rouge_score}\")\n"
      ],
      "metadata": {
        "colab": {
          "base_uri": "https://localhost:8080/"
        },
        "id": "jS4ROzX1plFB",
        "outputId": "7310bb5a-4b6e-4e11-b3ad-f5114240c8d9"
      },
      "execution_count": 39,
      "outputs": [
        {
          "output_type": "stream",
          "name": "stdout",
          "text": [
            "BLEU Score: 7.262123179505913e-78\n",
            "ROUGE Score: 0.8333333283333335\n"
          ]
        },
        {
          "output_type": "stream",
          "name": "stderr",
          "text": [
            "/usr/local/lib/python3.10/dist-packages/nltk/translate/bleu_score.py:552: UserWarning: \n",
            "The hypothesis contains 0 counts of 4-gram overlaps.\n",
            "Therefore the BLEU score evaluates to 0, independently of\n",
            "how many N-gram overlaps of lower order it contains.\n",
            "Consider using lower n-gram order or use SmoothingFunction()\n",
            "  warnings.warn(_msg)\n"
          ]
        }
      ]
    },
    {
      "cell_type": "markdown",
      "metadata": {
        "id": "tdKNAznoRP80"
      },
      "source": [
        "Generate text using the trained net with different `temperature` parameter: `[0.1, 0.2, 0.5, 1.0, 2.0]`.\n",
        "\n",
        "Evaluate the results visually, try to interpret them."
      ]
    },
    {
      "cell_type": "code",
      "execution_count": null,
      "metadata": {
        "collapsed": true,
        "id": "0WpeTjtZRP81"
      },
      "outputs": [],
      "source": [
        "# Text generation with different temperature values here\n",
        "import numpy as np\n",
        "\n",
        "# Assuming model is defined and trained outside of this function\n",
        "# model = ...\n",
        "\n",
        "def generate_text(seed_text, next_words=20, temperature=1.0):\n",
        "    for _ in range(next_words):\n",
        "        token_list = tokenizer.texts_to_sequences([seed_text])[0]\n",
        "        token_list = pad_sequences([token_list], maxlen=max_sequence_len-1, padding='pre')\n",
        "        predicted_probs = model.predict(token_list, verbose=0)\n",
        "\n",
        "        # Apply temperature to the predicted probabilities\n",
        "        predicted_probs = np.log(predicted_probs) / temperature\n",
        "        predicted_probs = np.exp(predicted_probs)\n",
        "        predicted_probs /= np.sum(predicted_probs)\n",
        "\n",
        "        # Sample the next word based on the adjusted probabilities\n",
        "        predicted_index = np.random.choice(range(total_words), p=predicted_probs.ravel())\n",
        "\n",
        "        output_word = \"\"\n",
        "        for word, index in tokenizer.word_index.items():\n",
        "            if index == predicted_index:\n",
        "                output_word = word\n",
        "                break\n",
        "\n",
        "        seed_text += \" \" + output_word\n",
        "    return seed_text\n",
        "\n",
        "# Now you can generate text with different temperatures\n",
        "temperatures = [0.1, 0.2, 0.5, 1.0, 2.0]\n",
        "for temperature in temperatures:\n",
        "    generated_text = generate_text(seed_text=\"This is a sample seed text\", temperature=temperature)\n",
        "    print(f\"Generated text with temperature {temperature}:\\n{generated_text}\\n\")\n",
        "\n"
      ]
    },
    {
      "cell_type": "markdown",
      "metadata": {
        "id": "zyO-VAQHRP81"
      },
      "source": [
        "### Saving and loading models"
      ]
    },
    {
      "cell_type": "markdown",
      "metadata": {
        "id": "xSt_gMxyRP81"
      },
      "source": [
        "Save the model to the disk, then load it and generate text. Examples are available [here](https://pytorch.org/tutorials/beginner/saving_loading_models.html])."
      ]
    },
    {
      "cell_type": "code",
      "execution_count": null,
      "metadata": {
        "collapsed": true,
        "id": "jEtaf4zNRP82"
      },
      "outputs": [],
      "source": [
        "# Saving and loading code here"
      ]
    },
    {
      "cell_type": "markdown",
      "metadata": {
        "id": "kw7r_UcdRP82"
      },
      "source": [
        "### References\n",
        "1. <a href='http://karpathy.github.io/2015/05/21/rnn-effectiveness/'> Andrew Karpathy blog post about RNN. </a>\n",
        "There are several examples of genration: Shakespeare texts, Latex formulas, Linux Sourse Code and children names.\n",
        "2. <a href='https://github.com/karpathy/char-rnn'> Repo with char-rnn code </a>\n",
        "3. Cool repo with PyTorch examples: [link](https://github.com/spro/practical-pytorch`)"
      ]
    }
  ],
  "metadata": {
    "anaconda-cloud": {},
    "colab": {
      "provenance": [],
      "include_colab_link": true
    },
    "kernelspec": {
      "display_name": "Python 3",
      "language": "python",
      "name": "python3"
    },
    "language_info": {
      "codemirror_mode": {
        "name": "ipython",
        "version": 3
      },
      "file_extension": ".py",
      "mimetype": "text/x-python",
      "name": "python",
      "nbconvert_exporter": "python",
      "pygments_lexer": "ipython3",
      "version": "3.7.7"
    }
  },
  "nbformat": 4,
  "nbformat_minor": 0
}