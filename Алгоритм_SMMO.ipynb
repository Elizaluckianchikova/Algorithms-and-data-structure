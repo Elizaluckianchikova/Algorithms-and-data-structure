{
  "nbformat": 4,
  "nbformat_minor": 0,
  "metadata": {
    "colab": {
      "provenance": [],
      "authorship_tag": "ABX9TyOg7HcW+oPvLBUaGokzm88c",
      "include_colab_link": true
    },
    "kernelspec": {
      "name": "python3",
      "display_name": "Python 3"
    },
    "language_info": {
      "name": "python"
    }
  },
  "cells": [
    {
      "cell_type": "markdown",
      "metadata": {
        "id": "view-in-github",
        "colab_type": "text"
      },
      "source": [
        "<a href=\"https://colab.research.google.com/github/Elizaluckianchikova/Algorithms-and-data-structure/blob/main/%D0%90%D0%BB%D0%B3%D0%BE%D1%80%D0%B8%D1%82%D0%BC_SMMO.ipynb\" target=\"_parent\"><img src=\"https://colab.research.google.com/assets/colab-badge.svg\" alt=\"Open In Colab\"/></a>"
      ]
    },
    {
      "cell_type": "markdown",
      "source": [
        "**Алгоритм SMMO**\n",
        "\n",
        "Алгоритм SMMO (Simultaneous Multiple Mobile Robot) - это алгоритм, который позволяет множеству мобильных роботов одновременно достигать заданных целей, избегая столкновений и оптимизируя пути. Вот пример базового алгоритма SMMO:\n",
        "\n",
        "1. Инициализация: задаются начальные положения роботов, цели для каждого робота, карты с препятствиями и другие параметры.\n",
        "\n",
        "2. Планирование пути: каждый робот использует алгоритм планирования пути, например, A* или RRT, чтобы найти оптимальный путь к своей цели, учитывая препятствия.\n",
        "\n",
        "3. Коллизионное избегание: если несколько роботов движутся в одном пространстве, то они должны избегать столкновений друг с другом. Для этого используются алгоритмы коллизионного избегания, такие как Velocity Obstacle или Social Force Model.\n",
        "\n",
        "4. Обновление положения: каждый робот обновляет свое положение в соответствии с найденным путем и избеганием столкновений.\n",
        "\n",
        "5. Проверка условий завершения: алгоритм проверяет, достигли ли все роботы своих целей или продолжают двигаться к ним.\n",
        "\n",
        "6. Завершение: алгоритм завершается, когда все роботы достигли своих целей.\n",
        "\n",
        "Это общий пример алгоритма SMMO. Для конкретной задачи требуется дополнительная настройка и оптимизация алгоритма под конкретные условия и требования.\n",
        "Это лишь пример простой реализации алгоритма SMMO на основе библиотеки NetworkX. Для более сложных сценариев и учета избегания столкновений между роботами потребуется дополнительная разработка алгоритмов коллизионного избегания и обновления положения роботов.\n",
        "\n",
        "Надеюсь, этот пример поможет вам начать работу над реализацией алгоритма SMMO в Python."
      ],
      "metadata": {
        "id": "9Ge3z_29PEkX"
      }
    },
    {
      "cell_type": "code",
      "execution_count": null,
      "metadata": {
        "colab": {
          "base_uri": "https://localhost:8080/",
          "height": 356
        },
        "id": "DNd35wqVO556",
        "outputId": "e7fe2057-6f19-4af8-f96b-35c063d90ba1"
      },
      "outputs": [
        {
          "output_type": "error",
          "ename": "NodeNotFound",
          "evalue": "Either source (0, 0) or target (3, 3) is not in G",
          "traceback": [
            "\u001b[0;31m---------------------------------------------------------------------------\u001b[0m",
            "\u001b[0;31mNodeNotFound\u001b[0m                              Traceback (most recent call last)",
            "\u001b[0;32m<ipython-input-1-5623cc6c90aa>\u001b[0m in \u001b[0;36m<cell line: 15>\u001b[0;34m()\u001b[0m\n\u001b[1;32m     18\u001b[0m \u001b[0;34m\u001b[0m\u001b[0m\n\u001b[1;32m     19\u001b[0m     \u001b[0;31m# Здесь можно использовать алгоритм планирования пути, например, A* из NetworkX\u001b[0m\u001b[0;34m\u001b[0m\u001b[0;34m\u001b[0m\u001b[0m\n\u001b[0;32m---> 20\u001b[0;31m     \u001b[0mpath\u001b[0m \u001b[0;34m=\u001b[0m \u001b[0mnx\u001b[0m\u001b[0;34m.\u001b[0m\u001b[0mastar_path\u001b[0m\u001b[0;34m(\u001b[0m\u001b[0mG\u001b[0m\u001b[0;34m,\u001b[0m \u001b[0mstart_pos\u001b[0m\u001b[0;34m,\u001b[0m \u001b[0mgoal_pos\u001b[0m\u001b[0;34m)\u001b[0m\u001b[0;34m\u001b[0m\u001b[0;34m\u001b[0m\u001b[0m\n\u001b[0m\u001b[1;32m     21\u001b[0m \u001b[0;34m\u001b[0m\u001b[0m\n\u001b[1;32m     22\u001b[0m     \u001b[0mprint\u001b[0m\u001b[0;34m(\u001b[0m\u001b[0;34mf'Путь для {robot}: {path}'\u001b[0m\u001b[0;34m)\u001b[0m\u001b[0;34m\u001b[0m\u001b[0;34m\u001b[0m\u001b[0m\n",
            "\u001b[0;32m/usr/local/lib/python3.10/dist-packages/networkx/utils/backends.py\u001b[0m in \u001b[0;36m__call__\u001b[0;34m(self, backend, *args, **kwargs)\u001b[0m\n\u001b[1;32m    410\u001b[0m         \u001b[0;32mif\u001b[0m \u001b[0;32mnot\u001b[0m \u001b[0mbackends\u001b[0m\u001b[0;34m:\u001b[0m\u001b[0;34m\u001b[0m\u001b[0;34m\u001b[0m\u001b[0m\n\u001b[1;32m    411\u001b[0m             \u001b[0;31m# Fast path if no backends are installed\u001b[0m\u001b[0;34m\u001b[0m\u001b[0;34m\u001b[0m\u001b[0m\n\u001b[0;32m--> 412\u001b[0;31m             \u001b[0;32mreturn\u001b[0m \u001b[0mself\u001b[0m\u001b[0;34m.\u001b[0m\u001b[0morig_func\u001b[0m\u001b[0;34m(\u001b[0m\u001b[0;34m*\u001b[0m\u001b[0margs\u001b[0m\u001b[0;34m,\u001b[0m \u001b[0;34m**\u001b[0m\u001b[0mkwargs\u001b[0m\u001b[0;34m)\u001b[0m\u001b[0;34m\u001b[0m\u001b[0;34m\u001b[0m\u001b[0m\n\u001b[0m\u001b[1;32m    413\u001b[0m \u001b[0;34m\u001b[0m\u001b[0m\n\u001b[1;32m    414\u001b[0m         \u001b[0;31m# Use `backend_name` in this function instead of `backend`\u001b[0m\u001b[0;34m\u001b[0m\u001b[0;34m\u001b[0m\u001b[0m\n",
            "\u001b[0;32m/usr/local/lib/python3.10/dist-packages/networkx/algorithms/shortest_paths/astar.py\u001b[0m in \u001b[0;36mastar_path\u001b[0;34m(G, source, target, heuristic, weight)\u001b[0m\n\u001b[1;32m     85\u001b[0m     \u001b[0;32mif\u001b[0m \u001b[0msource\u001b[0m \u001b[0;32mnot\u001b[0m \u001b[0;32min\u001b[0m \u001b[0mG\u001b[0m \u001b[0;32mor\u001b[0m \u001b[0mtarget\u001b[0m \u001b[0;32mnot\u001b[0m \u001b[0;32min\u001b[0m \u001b[0mG\u001b[0m\u001b[0;34m:\u001b[0m\u001b[0;34m\u001b[0m\u001b[0;34m\u001b[0m\u001b[0m\n\u001b[1;32m     86\u001b[0m         \u001b[0mmsg\u001b[0m \u001b[0;34m=\u001b[0m \u001b[0;34mf\"Either source {source} or target {target} is not in G\"\u001b[0m\u001b[0;34m\u001b[0m\u001b[0;34m\u001b[0m\u001b[0m\n\u001b[0;32m---> 87\u001b[0;31m         \u001b[0;32mraise\u001b[0m \u001b[0mnx\u001b[0m\u001b[0;34m.\u001b[0m\u001b[0mNodeNotFound\u001b[0m\u001b[0;34m(\u001b[0m\u001b[0mmsg\u001b[0m\u001b[0;34m)\u001b[0m\u001b[0;34m\u001b[0m\u001b[0;34m\u001b[0m\u001b[0m\n\u001b[0m\u001b[1;32m     88\u001b[0m \u001b[0;34m\u001b[0m\u001b[0m\n\u001b[1;32m     89\u001b[0m     \u001b[0;32mif\u001b[0m \u001b[0mheuristic\u001b[0m \u001b[0;32mis\u001b[0m \u001b[0;32mNone\u001b[0m\u001b[0;34m:\u001b[0m\u001b[0;34m\u001b[0m\u001b[0;34m\u001b[0m\u001b[0m\n",
            "\u001b[0;31mNodeNotFound\u001b[0m: Either source (0, 0) or target (3, 3) is not in G"
          ]
        }
      ],
      "source": [
        "import networkx as nx\n",
        "\n",
        "# Создание графа\n",
        "G = nx.Graph()\n",
        "\n",
        "# Добавление узлов (положений) роботов\n",
        "G.add_node('robot1', pos=(0, 0))\n",
        "G.add_node('robot2', pos=(1, 1))\n",
        "G.add_node('robot3', pos=(2, 2))\n",
        "\n",
        "# Добавление целей для роботов\n",
        "goals = {'robot1': (3, 3), 'robot2': (4, 4), 'robot3': (5, 5)}\n",
        "\n",
        "# Планирование пути для каждого робота\n",
        "for robot in G.nodes:\n",
        "    start_pos = nx.get_node_attributes(G, 'pos')[robot]\n",
        "    goal_pos = goals[robot]\n",
        "\n",
        "    # Здесь можно использовать алгоритм планирования пути, например, A* из NetworkX\n",
        "    path = nx.astar_path(G, start_pos, goal_pos)\n",
        "\n",
        "    print(f'Путь для {robot}: {path}')\n"
      ]
    }
  ]
}