{
  "nbformat": 4,
  "nbformat_minor": 0,
  "metadata": {
    "colab": {
      "provenance": [],
      "authorship_tag": "ABX9TyPPDSlh28Soocg6QOLltxf6",
      "include_colab_link": true
    },
    "kernelspec": {
      "name": "python3",
      "display_name": "Python 3"
    },
    "language_info": {
      "name": "python"
    }
  },
  "cells": [
    {
      "cell_type": "markdown",
      "metadata": {
        "id": "view-in-github",
        "colab_type": "text"
      },
      "source": [
        "<a href=\"https://colab.research.google.com/github/Elizaluckianchikova/Algorithms-and-data-structure/blob/main/algorithm_sortings_and_Kruskal's.ipynb\" target=\"_parent\"><img src=\"https://colab.research.google.com/assets/colab-badge.svg\" alt=\"Open In Colab\"/></a>"
      ]
    },
    {
      "cell_type": "markdown",
      "source": [
        "**Алгоритм сортировки вставками**\n",
        "\n",
        "Алгоритм сортировки вставками (Insertion Sort) является простым алгоритмом сортировки, который сортирует элементы путем поочередного вставления каждого элемента на правильную позицию.\n",
        "В этом примере insertion_sort - это функция, которая принимает массив arr и сортирует его методом сортировки вставками. Она проходит по массиву, начиная со второго элемента, и вставляет каждый элемент на правильную позицию в уже отсортированной части массива.\n",
        "\n",
        "После вызова insertion_sort, мы получаем отсортированный массив.\n",
        "\n",
        "Алгоритм сортировки вставками эффективен для небольших массивов или частично отсортированных массивов. Однако для больших массивов он может быть менее эффективным по сравнению с более сложными алгоритмами, такими как быстрая сортировка или сортировка слиянием."
      ],
      "metadata": {
        "id": "a0tRzYOvjZMS"
      }
    },
    {
      "cell_type": "code",
      "execution_count": null,
      "metadata": {
        "colab": {
          "base_uri": "https://localhost:8080/"
        },
        "id": "CTNrfVVgjKaC",
        "outputId": "6d85cdff-8c3d-4754-f329-7e7b24e7c2fd"
      },
      "outputs": [
        {
          "output_type": "stream",
          "name": "stdout",
          "text": [
            "Исходный массив: [12, 11, 13, 5, 6]\n",
            "Отсортированный массив: [5, 6, 11, 12, 13]\n"
          ]
        }
      ],
      "source": [
        "def insertion_sort(arr):\n",
        "    for i in range(1, len(arr)):\n",
        "        key = arr[i]\n",
        "        j = i - 1\n",
        "        while j >= 0 and key < arr[j]:\n",
        "            arr[j + 1] = arr[j]\n",
        "            j -= 1\n",
        "        arr[j + 1] = key\n",
        "\n",
        "# Пример использования\n",
        "array = [12, 11, 13, 5, 6]\n",
        "print(\"Исходный массив:\", array)\n",
        "insertion_sort(array)\n",
        "print(\"Отсортированный массив:\", array)\n"
      ]
    },
    {
      "cell_type": "markdown",
      "source": [
        "**Алгоритм быстрой сортировки**\n",
        "\n",
        "Алгоритм быстрой сортировки (Quick Sort) - это эффективный алгоритм сортировки, который использует стратегию \"разделяй и властвуй\". Он работает следующим образом:\n",
        "\n",
        "1. Выбирается опорный элемент из массива (например, средний элемент).\n",
        "2. Массив разделяется на две подгруппы: одна содержит элементы, меньшие опорного, а другая - элементы, большие опорного.\n",
        "3. Рекурсивно применяется алгоритм быстрой сортировки к каждой подгруппе.\n",
        "4. Результаты объединяются в отсортированный массив.\n",
        "В этом примере quick_sort - это функция, которая принимает массив arr и возвращает отсортированный массив, используя алгоритм быстрой сортировки. Она разделяет массив на три подмассива (меньшие, равные и большие опорного элемента), затем рекурсивно сортирует каждый подмассив и объединяет результаты.\n",
        "\n",
        "Алгоритм быстрой сортировки обычно эффективен для больших массивов и имеет среднюю сложность O(n log n). Однако в худшем случае его сложность может быть O(n^2), если опорный элемент выбран неудачно."
      ],
      "metadata": {
        "id": "BPmASaOrkMdg"
      }
    },
    {
      "cell_type": "code",
      "source": [
        "def quick_sort(arr):\n",
        "    if len(arr) <= 1:\n",
        "        return arr\n",
        "    else:\n",
        "        pivot = arr[len(arr) // 2]\n",
        "        left = [x for x in arr if x < pivot]\n",
        "        middle = [x for x in arr if x == pivot]\n",
        "        right = [x for x in arr if x > pivot]\n",
        "        return quick_sort(left) + middle + quick_sort(right)\n",
        "\n",
        "# Пример использования\n",
        "array = [12, 11, 13, 5, 6, 7]\n",
        "print(\"Исходный массив:\", array)\n",
        "sorted_array = quick_sort(array)\n",
        "print(\"Отсортированный массив:\", sorted_array)\n"
      ],
      "metadata": {
        "colab": {
          "base_uri": "https://localhost:8080/"
        },
        "id": "56pPlX8vko_p",
        "outputId": "4f888552-bb66-4366-b8e5-ec62cf48dd4c"
      },
      "execution_count": 2,
      "outputs": [
        {
          "output_type": "stream",
          "name": "stdout",
          "text": [
            "Исходный массив: [12, 11, 13, 5, 6, 7]\n",
            "Отсортированный массив: [5, 6, 7, 11, 12, 13]\n"
          ]
        }
      ]
    },
    {
      "cell_type": "markdown",
      "source": [
        "**Алгоритм  имитации поиска**\n",
        "Алгоритм имитации отжига (Simulated Annealing) - это метаэвристический алгоритм оптимизации, который моделирует процесс отжига металла. Он используется для нахождения глобального оптимума в задачах оптимизации, особенно в случаях, когда простые методы оптимизации могут застрять в локальных оптимумах.\n",
        "\n",
        "Алгоритм имитации отжига работает следующим образом:\n",
        "\n",
        "1. Начальное решение выбирается случайным образом.\n",
        "2. Задается функция стоимости (или энергии), которую необходимо минимизировать.\n",
        "3. Алгоритм выполняет серию итераций, на каждой из которых происходит следующее:\n",
        "   - Производится случайное изменение текущего решения.\n",
        "   - Вычисляется изменение стоимости (или энергии) от текущего решения к новому.\n",
        "   - Если новое решение имеет меньшую стоимость, оно принимается.\n",
        "   - Если новое решение имеет большую стоимость, оно может быть принято с некоторой вероятностью, которая уменьшается по мере увеличения числа итераций и уменьшения температуры (аналогично процессу отжига металла).\n",
        "4. Температура уменьшается по мере выполнения итераций, что позволяет алгоритму переходить к более жадным и менее случайным решениям.\n",
        "В этом примере simulated_annealing - это функция, которая принимает функцию стоимости, начальное решение, начальную температуру и коэффициент охлаждения, и возвращает лучшее найденное решение после выполнения алгоритма имитации отжига.\n",
        "\n",
        "Алгоритм имитации отжига является эффективным методом для решения задач оптимизации в различных областях, таких как логистика, проектирование и искусственный интеллект."
      ],
      "metadata": {
        "id": "v26oBeQdksZz"
      }
    },
    {
      "cell_type": "code",
      "source": [
        "import math\n",
        "import random\n",
        "\n",
        "def simulated_annealing(cost_function, initial_solution, temperature, cooling_rate):\n",
        "    current_solution = initial_solution\n",
        "    best_solution = initial_solution\n",
        "    while temperature > 0.1:\n",
        "        new_solution = get_neighbour(current_solution)  # Получаем случайное соседнее решение\n",
        "        current_cost = cost_function(current_solution)\n",
        "        new_cost = cost_function(new_solution)\n",
        "        if new_cost < current_cost or random.uniform(0, 1) < math.exp((current_cost - new_cost) / temperature):\n",
        "            current_solution = new_solution\n",
        "            if new_cost < cost_function(best_solution):\n",
        "                best_solution = new_solution\n",
        "        temperature *= cooling_rate\n",
        "    return best_solution\n",
        "\n",
        "# Пример использования для задачи о коммивояжере\n",
        "def euclidean_distance(point1, point2):\n",
        "    return math.sqrt((point1[0] - point2[0])**2 + (point1[1] - point2[1])**2)\n",
        "\n",
        "def total_distance(solution):\n",
        "    distance = 0\n",
        "    for i in range(len(solution) - 1):\n",
        "        distance += euclidean_distance(solution[i], solution[i+1])\n",
        "    distance += euclidean_distance(solution[-1], solution[0])  # Замыкаем цикл\n",
        "    return distance\n",
        "\n",
        "def get_neighbour(solution):\n",
        "    # Возвращает случайное соседнее решение путем перестановки двух точек\n",
        "    neighbour = solution.copy()\n",
        "    i, j = random.sample(range(len(neighbour)), 2)\n",
        "    neighbour[i], neighbour[j] = neighbour[j], neighbour[i]\n",
        "    return neighbour\n",
        "\n",
        "# Генерируем случайные точки для задачи о коммивояжере\n",
        "points = [(random.uniform(0, 100), random.uniform(0, 100)) for _ in range(10)]\n",
        "initial_solution = points.copy()\n",
        "\n",
        "# Запускаем алгоритм имитации отжига\n",
        "best_solution = simulated_annealing(total_distance, initial_solution, temperature=10000, cooling_rate=0.95)\n",
        "print(\"Лучшее найденное решение:\", best_solution)\n",
        "print(\"Длина пути:\", total_distance(best_solution))\n"
      ],
      "metadata": {
        "colab": {
          "base_uri": "https://localhost:8080/"
        },
        "id": "LJdNisWwlIls",
        "outputId": "40358e99-6023-4f3e-e387-572c72149266"
      },
      "execution_count": 3,
      "outputs": [
        {
          "output_type": "stream",
          "name": "stdout",
          "text": [
            "Лучшее найденное решение: [(58.982706154400276, 51.783825311154686), (52.80546625771243, 42.96293736607129), (34.379739795732355, 11.010368087512191), (93.21294019128906, 12.604276839530659), (99.27945655042035, 54.28350942904766), (65.75580366155506, 99.2402176214586), (28.824721546792386, 69.98839127234866), (40.78278681394728, 57.01008787493917), (54.8858355043723, 58.75727998138905), (44.588566903935735, 55.673368651747914)]\n",
            "Длина пути: 309.33654130374384\n"
          ]
        }
      ]
    },
    {
      "cell_type": "markdown",
      "source": [
        "**Алгоритм Крускала**\n",
        "Алгоритм Крускала (Kruskal's algorithm) - это жадный алгоритм, используемый для поиска минимального остовного дерева во взвешенном связном графе. Остовное дерево - это подграф исходного графа, содержащий все вершины и являющийся деревом (т.е. не содержащий циклов).\n",
        "\n",
        "Алгоритм Крускала работает следующим образом:\n",
        "\n",
        "1. Сначала все рёбра графа упорядочиваются по весу (от наименьшего к наибольшему).\n",
        "2. Затем создается пустой остовный граф.\n",
        "3. Далее происходит итерация по всем рёбрам в отсортированном порядке:\n",
        "   - Если добавление текущего ребра не приводит к образованию цикла в остовном графе, то это ребро добавляется к остовному графу.\n",
        "   - Для проверки наличия цикла можно использовать структуру данных \"Disjoint Set\" (например, с помощью алгоритма Union-Find).\n",
        "4. Процесс продолжается до тех пор, пока не будут рассмотрены все рёбра или пока остовный граф не будет содержать все вершины исходного графа.\n",
        "В этом примере kruskal - это функция, которая принимает взвешенный связный граф в виде матрицы смежности и возвращает список рёбер минимального остовного дерева.\n",
        "\n",
        "Алгоритм Крускала широко используется в различных областях, таких как сети передачи данных, оптимизация маршрутов и телекоммуникации."
      ],
      "metadata": {
        "id": "HYDvQJBKlNAV"
      }
    },
    {
      "cell_type": "code",
      "source": [
        "class DisjointSet:\n",
        "    def __init__(self, n):\n",
        "        self.parent = [i for i in range(n)]\n",
        "        self.rank = [0] * n\n",
        "\n",
        "    def find(self, u):\n",
        "        if self.parent[u] != u:\n",
        "            self.parent[u] = self.find(self.parent[u])\n",
        "        return self.parent[u]\n",
        "\n",
        "    def union(self, u, v):\n",
        "        pu, pv = self.find(u), self.find(v)\n",
        "        if pu == pv:\n",
        "            return False\n",
        "        if self.rank[pu] > self.rank[pv]:\n",
        "            self.parent[pv] = pu\n",
        "        elif self.rank[pv] > self.rank[pu]:\n",
        "            self.parent[pu] = pv\n",
        "        else:\n",
        "            self.parent[pu] = pv\n",
        "            self.rank[pv] += 1\n",
        "        return True\n",
        "\n",
        "def kruskal(graph):\n",
        "    edges = []\n",
        "    for u in range(len(graph)):\n",
        "        for v in range(len(graph)):\n",
        "            if graph[u][v] != 0:\n",
        "                edges.append((u, v, graph[u][v]))\n",
        "    edges.sort(key=lambda x: x[2])\n",
        "    n = len(graph)\n",
        "    dsu = DisjointSet(n)\n",
        "    min_spanning_tree = []\n",
        "    for edge in edges:\n",
        "        u, v, weight = edge\n",
        "        if dsu.union(u, v):\n",
        "            min_spanning_tree.append((u, v, weight))\n",
        "    return min_spanning_tree\n",
        "\n",
        "# Пример использования для поиска минимального остовного дерева\n",
        "graph = [\n",
        "    [0, 2, 0, 6, 0],\n",
        "    [2, 0, 3, 8, 5],\n",
        "    [0, 3, 0, 0, 7],\n",
        "    [6, 8, 0, 0, 9],\n",
        "    [0, 5, 7, 9, 0]\n",
        "]\n",
        "min_spanning_tree = kruskal(graph)\n",
        "print(\"Минимальное остовное дерево:\", min_spanning_tree)\n"
      ],
      "metadata": {
        "colab": {
          "base_uri": "https://localhost:8080/"
        },
        "id": "oNY_M27xluu-",
        "outputId": "e2f01c86-8630-47d2-dcb2-355a351d68e0"
      },
      "execution_count": 4,
      "outputs": [
        {
          "output_type": "stream",
          "name": "stdout",
          "text": [
            "Минимальное остовное дерево: [(0, 1, 2), (1, 2, 3), (1, 4, 5), (0, 3, 6)]\n"
          ]
        }
      ]
    }
  ]
}