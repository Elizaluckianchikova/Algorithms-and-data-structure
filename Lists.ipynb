{
  "nbformat": 4,
  "nbformat_minor": 0,
  "metadata": {
    "colab": {
      "provenance": [],
      "authorship_tag": "ABX9TyNBh0pi8Z+leKjMQasMzQy9",
      "include_colab_link": true
    },
    "kernelspec": {
      "name": "python3",
      "display_name": "Python 3"
    },
    "language_info": {
      "name": "python"
    }
  },
  "cells": [
    {
      "cell_type": "markdown",
      "metadata": {
        "id": "view-in-github",
        "colab_type": "text"
      },
      "source": [
        "<a href=\"https://colab.research.google.com/github/Elizaluckianchikova/Algorithms-and-data-structure/blob/main/Lists.ipynb\" target=\"_parent\"><img src=\"https://colab.research.google.com/assets/colab-badge.svg\" alt=\"Open In Colab\"/></a>"
      ]
    },
    {
      "cell_type": "markdown",
      "source": [
        "**Развернуть односвязный список**\n",
        "\n",
        "Для разворачивания односвязанного списка можно использовать следующий алгоритм:\n",
        "\n",
        "1. Инициализировать три указателя: текущий (current), предыдущий (prev) и следующий (next).\n",
        "2. Начать с текущего указателя, указывающего на начало списка.\n",
        "3. Итеративно переопределять указатели следующим образом:\n",
        "   - next = current->next\n",
        "   - current->next = prev\n",
        "   - prev = current\n",
        "   - current = next\n",
        "4. Повторять шаг 3 до тех пор, пока текущий указатель не станет равным NULL.\n",
        "5. После завершения цикла, предыдущий указатель будет указывать на новое начало списка."
      ],
      "metadata": {
        "id": "Z7YOW_uZnmew"
      }
    },
    {
      "cell_type": "code",
      "source": [
        "class ListNode:\n",
        "    def __init__(self, value=0, next=None):\n",
        "        self.value = value\n",
        "        self.next = next\n",
        "\n",
        "def reverse_linked_list(head):\n",
        "    prev = None\n",
        "    current = head\n",
        "    while current is not None:\n",
        "        next_node = current.next\n",
        "        current.next = prev\n",
        "        prev = current\n",
        "        current = next_node\n",
        "    head = prev\n",
        "    return head\n"
      ],
      "metadata": {
        "id": "Qh1REiWpn5lD"
      },
      "execution_count": null,
      "outputs": []
    },
    {
      "cell_type": "markdown",
      "source": [
        "**Разворот двусвязанного списка**\n",
        "\n",
        "Алгоритм разворота двусвязанного списка состоит из нескольких шагов:\n",
        "\n",
        "1. Начните с указателя на голову списка.\n",
        "2. Для каждого узла в списке:\n",
        "   - Поменяйте местами указатели на предыдущий и следующий узлы.\n",
        "   - Переместите указатель на следующий узел.\n",
        "3. После завершения цикла обновите указатель на голову списка.\n",
        "\n",
        "Процесс повторяется до тех пор, пока указатель на текущий узел не станет равным None, что означает достижение конца списка.\n",
        "\n",
        "В результате выполнения алгоритма порядок узлов в списке будет развернут, то есть теперь последний узел станет первым, предпоследний - вторым и так далее."
      ],
      "metadata": {
        "id": "RbgMgOcDpSAA"
      }
    },
    {
      "cell_type": "code",
      "source": [
        "class ListNode:\n",
        "    def __init__(self, value=0, prev=None, next=None):\n",
        "        self.value = value\n",
        "        self.prev = prev\n",
        "        self.next = next\n",
        "\n",
        "def reverse_doubly_linked_list(head):\n",
        "    current = head\n",
        "    while current is not None:\n",
        "        temp = current.prev\n",
        "        current.prev = current.next\n",
        "        current.next = temp\n",
        "        head = current\n",
        "        current = current.prev\n",
        "    return head\n"
      ],
      "metadata": {
        "id": "gjwiFkeIqZ6v"
      },
      "execution_count": null,
      "outputs": []
    }
  ]
}