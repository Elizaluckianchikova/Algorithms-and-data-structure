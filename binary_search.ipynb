{
  "nbformat": 4,
  "nbformat_minor": 0,
  "metadata": {
    "colab": {
      "provenance": [],
      "authorship_tag": "ABX9TyMyDVtf+Hs2xQb5Vi4NkLdR",
      "include_colab_link": true
    },
    "kernelspec": {
      "name": "python3",
      "display_name": "Python 3"
    },
    "language_info": {
      "name": "python"
    }
  },
  "cells": [
    {
      "cell_type": "markdown",
      "metadata": {
        "id": "view-in-github",
        "colab_type": "text"
      },
      "source": [
        "<a href=\"https://colab.research.google.com/github/Elizaluckianchikova/Algorithms-and-data-structure/blob/main/binary_search.ipynb\" target=\"_parent\"><img src=\"https://colab.research.google.com/assets/colab-badge.svg\" alt=\"Open In Colab\"/></a>"
      ]
    },
    {
      "cell_type": "markdown",
      "source": [
        "**Бинарный поиск**\n",
        "\n",
        "\n",
        "Бинарный поиск — это эффективный алгоритм поиска элемента в отсортированном массиве. Он работает путем разделения массива пополам и сравнения целевого элемента с элементом в середине массива. Если целевой элемент меньше среднего, поиск продолжается только в левой половине массива, иначе — только в правой. Этот процесс повторяется, пока не будет найден целевой элемент или пока интервал поиска не станет пустым. В худшем случае бинарный поиск имеет сложность O(log n), что делает его значительно более эффективным, чем линейный поиск."
      ],
      "metadata": {
        "id": "_Zy4qS_KtLDD"
      }
    },
    {
      "cell_type": "code",
      "source": [
        "def binary_search(arr, target):\n",
        "    low = 0\n",
        "    high = len(arr) - 1\n",
        "\n",
        "    while low <= high:\n",
        "        mid = (low + high) // 2\n",
        "        mid_val = arr[mid]\n",
        "\n",
        "        if mid_val == target:\n",
        "            return mid\n",
        "        elif mid_val < target:\n",
        "            low = mid + 1\n",
        "        else:\n",
        "            high = mid - 1\n",
        "\n",
        "    return -1  # Если элемент не найден\n",
        "\n",
        "# Пример использования\n",
        "my_list = [1, 3, 5, 7, 9]\n",
        "target = 5\n",
        "result = binary_search(my_list, target)\n",
        "if result != -1:\n",
        "    print(f\"Элемент найден в позиции {result}.\")\n",
        "else:\n",
        "    print(\"Элемент не найден.\")\n"
      ],
      "metadata": {
        "id": "nVbR_NaytStZ"
      },
      "execution_count": null,
      "outputs": []
    }
  ]
}