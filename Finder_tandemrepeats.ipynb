{
  "nbformat": 4,
  "nbformat_minor": 0,
  "metadata": {
    "colab": {
      "provenance": [],
      "authorship_tag": "ABX9TyN+ZJEuyQD+RO3zUkohfCuC",
      "include_colab_link": true
    },
    "kernelspec": {
      "name": "python3",
      "display_name": "Python 3"
    },
    "language_info": {
      "name": "python"
    }
  },
  "cells": [
    {
      "cell_type": "markdown",
      "metadata": {
        "id": "view-in-github",
        "colab_type": "text"
      },
      "source": [
        "<a href=\"https://colab.research.google.com/github/Elizaluckianchikova/Algorithms-and-data-structure/blob/main/Finder_tandemrepeats.ipynb\" target=\"_parent\"><img src=\"https://colab.research.google.com/assets/colab-badge.svg\" alt=\"Open In Colab\"/></a>"
      ]
    },
    {
      "cell_type": "code",
      "execution_count": 1,
      "metadata": {
        "colab": {
          "base_uri": "https://localhost:8080/"
        },
        "id": "1P6FJyaL4xYI",
        "outputId": "859b57db-48d1-496b-864e-376b453ada03"
      },
      "outputs": [
        {
          "output_type": "stream",
          "name": "stdout",
          "text": [
            "A (1 повторов)\n",
            "AA (2 повторов)\n",
            "AAA (3 повторов)\n",
            "AACC (4 повторов)\n",
            "CCCCCC (6 повторов)\n",
            "CCCCCGG (7 повторов)\n",
            "CCCCGGG (8 повторов)\n",
            "CCCGGG (9 повторов)\n",
            "CCGGG (10 повторов)\n",
            "GGG (12 повторов)\n",
            "AA (2 повторов)\n",
            "AAA (3 повторов)\n",
            "CCCCCCG (7 повторов)\n",
            "CCCCCGGG (8 повторов)\n",
            "CCCCGGG (9 повторов)\n",
            "CCCCCCGG (8 повторов)\n"
          ]
        }
      ],
      "source": [
        "import itertools\n",
        "\n",
        "def find_tandem_repeats(sequence):\n",
        "    tandem_repeats = []\n",
        "    for k in range(1, len(sequence) // 2 + 1):\n",
        "        for i in itertools.islice(range(len(sequence) - k * 2), len(sequence) - 2 * k):\n",
        "            if sequence[i : i + k] == sequence[i + k : i + 2 * k]:\n",
        "                tandem_repeats.append((i, i + k))\n",
        "    return tandem_repeats\n",
        "\n",
        "sequence = \"AAAAACCCCCCGGG\"\n",
        "tandem_repeats = find_tandem_repeats(sequence)\n",
        "for i, k in tandem_repeats:\n",
        "  print(f\"{sequence[i:i+k]} ({k} повторов)\")"
      ]
    },
    {
      "cell_type": "markdown",
      "source": [
        "**Тандемный повтор**\n",
        "\n",
        "Для поиска тандемных повторов можно использовать алгоритм, который называется “Тандемный повтор”. Этот алгоритм основан на том, что тандемные повторы имеют высокую плотность и длину. Он использует алгоритм локального выравнивания для поиска тандемных повторов.\n",
        "Этот алгоритм находит все тандемные повторы длиной от 1 до len(sequence)//2 в данной последовательности. Для каждого значения k он просматривает последовательность и ищет повторы длины k. Если он находит такой повтор, он добавляет его в список tandem_repeats. После этого он выводит все найденные повторы.\n",
        "\n"
      ],
      "metadata": {
        "id": "05AP7LTa5K75"
      }
    }
  ]
}