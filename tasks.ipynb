{
  "nbformat": 4,
  "nbformat_minor": 0,
  "metadata": {
    "colab": {
      "provenance": [],
      "authorship_tag": "ABX9TyMXM9TA8+u7bB/MbWdqJQ+z",
      "include_colab_link": true
    },
    "kernelspec": {
      "name": "python3",
      "display_name": "Python 3"
    },
    "language_info": {
      "name": "python"
    }
  },
  "cells": [
    {
      "cell_type": "markdown",
      "metadata": {
        "id": "view-in-github",
        "colab_type": "text"
      },
      "source": [
        "<a href=\"https://colab.research.google.com/github/Elizaluckianchikova/Algorithms-and-data-structure/blob/main/tasks.ipynb\" target=\"_parent\"><img src=\"https://colab.research.google.com/assets/colab-badge.svg\" alt=\"Open In Colab\"/></a>"
      ]
    },
    {
      "cell_type": "markdown",
      "source": [
        "**Задача о числе Пи:** Напишите программу, которая вычисляет число Пи с использованием ряда Маклорена."
      ],
      "metadata": {
        "id": "VF-iq1Og4rJl"
      }
    },
    {
      "cell_type": "code",
      "execution_count": 3,
      "metadata": {
        "colab": {
          "base_uri": "https://localhost:8080/"
        },
        "id": "tAGTtSDv4J1W",
        "outputId": "d76cd6c8-beb3-417f-861d-575754501a49"
      },
      "outputs": [
        {
          "output_type": "stream",
          "name": "stdout",
          "text": [
            "Приблизительное значение числа Пи: 3.1415826535897198\n"
          ]
        }
      ],
      "source": [
        "\n",
        "def calculate_pi(num_terms):\n",
        "    pi = 0\n",
        "    sign = 1\n",
        "    for i in range(1, num_terms * 2, 2):\n",
        "        pi += sign * (4 / i)\n",
        "        sign *= -1\n",
        "    return pi\n",
        "\n",
        "num_terms = 100000  # Количество членов ряда Маклорена для использования\n",
        "approx_pi = calculate_pi(num_terms)\n",
        "print(f\"Приблизительное значение числа Пи: {approx_pi}\")\n"
      ]
    },
    {
      "cell_type": "markdown",
      "source": [
        "Задача о сортировке: Напишите функцию сортировки для массива чисел."
      ],
      "metadata": {
        "id": "eWT5F9qR4pXs"
      }
    },
    {
      "cell_type": "code",
      "source": [
        "def bubble_sort(arr):\n",
        "    n = len(arr)\n",
        "    for i in range(n):\n",
        "        for j in range(0, n-i-1):\n",
        "            if arr[j] > arr[j+1]:\n",
        "                arr[j], arr[j+1] = arr[j+1], arr[j]\n",
        "    return arr\n",
        "\n",
        "# Пример использования\n",
        "unsorted_array = [64, 34, 25, 12, 22, 11, 90]\n",
        "sorted_array = bubble_sort(unsorted_array)\n",
        "print(\"Отсортированный массив:\", sorted_array)\n"
      ],
      "metadata": {
        "id": "KqDWmZ_x400A"
      },
      "execution_count": null,
      "outputs": []
    },
    {
      "cell_type": "markdown",
      "source": [
        "Задача о разборчивом писаре: У вас есть текст, написанный неразборчивым почерком."
      ],
      "metadata": {
        "id": "Uk87XEne4-pt"
      }
    },
    {
      "cell_type": "code",
      "source": [
        "import numpy as np\n",
        "from hmmlearn import hmm\n",
        "\n",
        "# Создание HMM модели\n",
        "num_states = 3   # количество состояний\n",
        "num_features = 20  # количество признаков\n",
        "model = hmm.GaussianHMM(num_components=num_states, n_features=num_features)\n",
        "\n",
        "# Обучение модели на обучающем наборе данных\n",
        "training_data = np.load('training_data.npy')\n",
        "model.fit(training_data)\n",
        "\n",
        "# Декодирование текста с использованием обученной модели\n",
        "test_data = np.load('test_data.npy')\n",
        "decoded_data = model.predict(test_data)\n",
        "decoded_text = decoded_data.tolist()\n",
        "print(decoded_text)"
      ],
      "metadata": {
        "colab": {
          "base_uri": "https://localhost:8080/",
          "height": 383
        },
        "id": "Z7jNc_Jw5pWw",
        "outputId": "5bbc347d-e191-4e15-b335-1495932de9f8"
      },
      "execution_count": 7,
      "outputs": [
        {
          "output_type": "error",
          "ename": "ModuleNotFoundError",
          "evalue": "No module named 'hmmlearn'",
          "traceback": [
            "\u001b[0;31m---------------------------------------------------------------------------\u001b[0m",
            "\u001b[0;31mModuleNotFoundError\u001b[0m                       Traceback (most recent call last)",
            "\u001b[0;32m<ipython-input-7-d2fdb3cfa877>\u001b[0m in \u001b[0;36m<cell line: 2>\u001b[0;34m()\u001b[0m\n\u001b[1;32m      1\u001b[0m \u001b[0;32mimport\u001b[0m \u001b[0mnumpy\u001b[0m \u001b[0;32mas\u001b[0m \u001b[0mnp\u001b[0m\u001b[0;34m\u001b[0m\u001b[0;34m\u001b[0m\u001b[0m\n\u001b[0;32m----> 2\u001b[0;31m \u001b[0;32mfrom\u001b[0m \u001b[0mhmmlearn\u001b[0m \u001b[0;32mimport\u001b[0m \u001b[0mhmm\u001b[0m\u001b[0;34m\u001b[0m\u001b[0;34m\u001b[0m\u001b[0m\n\u001b[0m\u001b[1;32m      3\u001b[0m \u001b[0;34m\u001b[0m\u001b[0m\n\u001b[1;32m      4\u001b[0m \u001b[0;31m# Создание HMM модели\u001b[0m\u001b[0;34m\u001b[0m\u001b[0;34m\u001b[0m\u001b[0m\n\u001b[1;32m      5\u001b[0m \u001b[0mnum_states\u001b[0m \u001b[0;34m=\u001b[0m \u001b[0;36m3\u001b[0m   \u001b[0;31m# количество состояний\u001b[0m\u001b[0;34m\u001b[0m\u001b[0;34m\u001b[0m\u001b[0m\n",
            "\u001b[0;31mModuleNotFoundError\u001b[0m: No module named 'hmmlearn'",
            "",
            "\u001b[0;31m---------------------------------------------------------------------------\u001b[0;32m\nNOTE: If your import is failing due to a missing package, you can\nmanually install dependencies using either !pip or !apt.\n\nTo view examples of installing some common dependencies, click the\n\"Open Examples\" button below.\n\u001b[0;31m---------------------------------------------------------------------------\u001b[0m\n"
          ],
          "errorDetails": {
            "actions": [
              {
                "action": "open_url",
                "actionText": "Open Examples",
                "url": "/notebooks/snippets/importing_libraries.ipynb"
              }
            ]
          }
        }
      ]
    },
    {
      "cell_type": "markdown",
      "source": [
        "Задача об укладке коробок: У вас есть N коробок разных размеров. Ваша задача - упаковать их наиболее эффективно, то есть использовать как можно меньше места."
      ],
      "metadata": {
        "id": "1-CYy59z6Mvj"
      }
    },
    {
      "cell_type": "code",
      "source": [
        "from pybox import Box\n",
        "\n",
        "def pack_boxes(boxes):\n",
        "    result = []\n",
        "    for box in boxes:\n",
        "        result.append(Box(box[0], box[1]))\n",
        "    boxes = result\n",
        "\n",
        "    while len(boxes) > 0:\n",
        "        box = boxes.pop()\n",
        "        free_space = [(x, y) for x in range(len(boxes)) for y in range(len(boxes[x])) if boxes[x][y]]\n",
        "        best_fit = max(free_space, key=lambda x: (box.width - x[0], box.height - x[1]))\n",
        "        if best_fit is None:\n",
        "            return False\n",
        "        boxes.append((best_fit, box))\n",
        "    return True\n",
        "\n",
        "boxes = [\n",
        "    (3, 5),\n",
        "    (2, 3),\n",
        "    (1, 1)\n",
        "]\n",
        "if pack_boxes(boxes):\n",
        "  print(“Packing successful”)\n",
        "else:\n",
        "print(“Packing failed”)"
      ],
      "metadata": {
        "id": "MdaULpa15Cp0"
      },
      "execution_count": null,
      "outputs": []
    },
    {
      "cell_type": "markdown",
      "source": [
        "Задача о размене монет: Дано N монет. Нужно найти наименьшее количество монет, которое можно получить, имея сумму S.\n"
      ],
      "metadata": {
        "id": "_5J_dmz36TXe"
      }
    },
    {
      "cell_type": "code",
      "source": [
        "from itertools import accumulate\n",
        "\n",
        "def change(n, coins):\n",
        "    coins = list(accumulate(coins))\n",
        "    i = 0\n",
        "    while i < len(coins) and coins[i] <= n:\n",
        "        i += 1\n",
        "    return i\n",
        "\n",
        "print(change(20, [1, 5, 10, 25])) # Выведет 3"
      ],
      "metadata": {
        "colab": {
          "base_uri": "https://localhost:8080/"
        },
        "id": "KU778qbE6rMt",
        "outputId": "2bbbdce5-34a0-4b14-da0a-5fe3c701d2a7"
      },
      "execution_count": 4,
      "outputs": [
        {
          "output_type": "stream",
          "name": "stdout",
          "text": [
            "3\n"
          ]
        }
      ]
    },
    {
      "cell_type": "code",
      "source": [
        "def change(n,coins):\n",
        "    if n == 0:\n",
        "        return 0\n",
        "    if n < 0 or len(coins) == 0:\n",
        "        return -1\n",
        "    minimum = change(n, coins[1:])\n",
        "    if minimum != -1:\n",
        "        return minimum + 1\n",
        "\n",
        "    return min(change(n - coin, coins) + 1 for coin in coins)\n",
        "\n",
        "coins = [1,5,10,25]\n",
        "print(change(20, coins))"
      ],
      "metadata": {
        "colab": {
          "base_uri": "https://localhost:8080/"
        },
        "id": "RzUFxe7q66pG",
        "outputId": "ab5d01df-cc61-4c46-a44c-84bc385f7fdb"
      },
      "execution_count": 5,
      "outputs": [
        {
          "output_type": "stream",
          "name": "stdout",
          "text": [
            "3\n"
          ]
        }
      ]
    }
  ]
}