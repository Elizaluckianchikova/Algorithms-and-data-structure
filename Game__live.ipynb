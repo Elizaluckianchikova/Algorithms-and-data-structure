{
  "nbformat": 4,
  "nbformat_minor": 0,
  "metadata": {
    "colab": {
      "provenance": [],
      "authorship_tag": "ABX9TyMvz0juFdWn7l+rEFEvMDEr",
      "include_colab_link": true
    },
    "kernelspec": {
      "name": "python3",
      "display_name": "Python 3"
    },
    "language_info": {
      "name": "python"
    }
  },
  "cells": [
    {
      "cell_type": "markdown",
      "metadata": {
        "id": "view-in-github",
        "colab_type": "text"
      },
      "source": [
        "<a href=\"https://colab.research.google.com/github/Elizaluckianchikova/Algorithms-and-data-structure/blob/main/Game__live.ipynb\" target=\"_parent\"><img src=\"https://colab.research.google.com/assets/colab-badge.svg\" alt=\"Open In Colab\"/></a>"
      ]
    },
    {
      "cell_type": "markdown",
      "source": [
        "**Игра \"Жизнь\"**\n",
        "\n",
        "Игра “Жизнь” - это клеточный автомат, придуманный Джоном Конвеем. Ваша задача - создать программу, которая моделирует эту игру."
      ],
      "metadata": {
        "id": "N_sn32MYny2Y"
      }
    },
    {
      "cell_type": "code",
      "source": [
        "import pygame\n",
        "import numpy as np\n",
        "\n",
        "# Инициализация параметров\n",
        "width, height = 600, 600\n",
        "nxC, nyC = 50, 50\n",
        "dimCW = width / nxC\n",
        "dimCH = height / nyC\n",
        "\n",
        "# Инициализация окна отображения\n",
        "pygame.init()\n",
        "screen = pygame.display.set_mode((width, height))\n",
        "bg = 25, 25, 25\n",
        "screen.fill(bg)\n",
        "\n",
        "# Инициализация состояния клеточной автоматы\n",
        "gameState = np.zeros((nxC, nyC))\n",
        "\n",
        "# Автоматическая инициализация состояния клеточной автоматы случайными значениями\n",
        "gameState = np.random.randint(0, 2, (nxC, nyC))\n",
        "\n",
        "# Основной цикл программы\n",
        "while True:\n",
        "\n",
        "    newGameState = np.copy(gameState)\n",
        "    screen.fill(bg)\n",
        "    pygame.time.delay(100)\n",
        "\n",
        "    for y in range(0, nxC):\n",
        "        for x in range(0, nyC):\n",
        "\n",
        "            # Вычисление соседей\n",
        "            n_neigh = gameState[(x - 1) % nxC, (y - 1) % nyC] + \\\n",
        "                      gameState[(x) % nxC, (y - 1) % nyC] + \\\n",
        "                      gameState[(x + 1) % nxC, (y - 1) % nyC] + \\\n",
        "                      gameState[(x - 1) % nxC, (y) % nyC] + \\\n",
        "                      gameState[(x + 1) % nxC, (y) % nyC] + \\\n",
        "                      gameState[(x - 1) % nxC, (y + 1) % nyC] + \\\n",
        "                      gameState[(x) % nxC, (y + 1) % nyC] + \\\n",
        "                      gameState[(x + 1) % nxC, (y + 1) % nyC]\n",
        "\n",
        "            # Правила игры \"Жизнь\"\n",
        "            if gameState[x, y] == 0 and n_neigh == 3:\n",
        "                newGameState[x, y] = 1\n",
        "            elif gameState[x, y] == 1 and (n_neigh < 2 or n_neigh > 3):\n",
        "                newGameState[x, y] = 0\n",
        "\n",
        "            # Отрисовка клеток\n",
        "            poly = [(x * dimCW, y * dimCH),\n",
        "                    ((x + 1) * dimCW, y * dimCH),\n",
        "                    ((x + 1) * dimCW, (y + 1) * dimCH),\n",
        "                    (x * dimCW, (y + 1) * dimCH)]\n",
        "\n",
        "            if newGameState[x, y] == 0:\n",
        "                pygame.draw.polygon(screen, (128, 128, 128), poly, 1)\n",
        "            else:\n",
        "                pygame.draw.polygon(screen, (255, 255, 255), poly, 0)\n",
        "\n",
        "    # Обновление состояния клеточной автоматы\n",
        "    gameState = np.copy(newGameState)\n",
        "\n",
        "    # Обработка событий для выхода из программы\n",
        "    for event in pygame.event.get():\n",
        "        if event.type == pygame.QUIT:\n",
        "            pygame.quit()\n",
        "\n",
        "    # Обновление экрана\n",
        "    pygame.display.flip()\n"
      ],
      "metadata": {
        "id": "PN3vFHjooeac"
      },
      "execution_count": null,
      "outputs": []
    }
  ]
}