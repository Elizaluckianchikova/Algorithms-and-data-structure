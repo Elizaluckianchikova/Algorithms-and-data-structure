{
  "nbformat": 4,
  "nbformat_minor": 0,
  "metadata": {
    "colab": {
      "provenance": [],
      "authorship_tag": "ABX9TyMU0MO7htaRAyL/b/8KyiNe",
      "include_colab_link": true
    },
    "kernelspec": {
      "name": "python3",
      "display_name": "Python 3"
    },
    "language_info": {
      "name": "python"
    }
  },
  "cells": [
    {
      "cell_type": "markdown",
      "metadata": {
        "id": "view-in-github",
        "colab_type": "text"
      },
      "source": [
        "<a href=\"https://colab.research.google.com/github/Elizaluckianchikova/Algorithms-and-data-structure/blob/main/greedy_algorithm.ipynb\" target=\"_parent\"><img src=\"https://colab.research.google.com/assets/colab-badge.svg\" alt=\"Open In Colab\"/></a>"
      ]
    },
    {
      "cell_type": "markdown",
      "source": [
        "**Жадный алгоритм**\n",
        "\n",
        "Жадный алгоритм - это алгоритм, который принимает решение на основе текущего состояния, не учитывая будущие последствия. В Python есть несколько библиотек, которые можно использовать для реализации жадного алгоритма. Например, библиотека Scikit-Learn содержит класс GreedyClassifier, который можно использовать для создания жадного классификатора."
      ],
      "metadata": {
        "id": "IvR5vVoEsyCx"
      }
    },
    {
      "cell_type": "code",
      "source": [
        "Class greedy_algorithm:\n",
        "def greedy_algorithm(data):\n",
        "    sorted_data = sorted(data, reverse=True)  # Сортируем данные в порядке убывания\n",
        "    max_sum = 0  # В начале сумма равна нулю\n",
        "    max_elements = []  # Создаем пустой список для хранения выбранных элементов\n",
        "    for element in sorted_data:\n",
        "        if max_sum + element <= max_sum + element + sum(max_elements):  # Проверяем, не превышает ли текущий элемент максимальную сумму\n",
        "            max_sum += element  # Если не превышает, добавляем элемент к сумме\n",
        "            max_elements.append(element)  # И добавляем элемент в список выбранных элементов\n",
        "    return max_elements\n",
        "\n",
        "data = [5, 10, 2, 8, 15, 3, 7]  # Пример данных\n",
        "result = greedy_algorithm(data)  # Вызываем функцию жадного алгорит"
      ],
      "metadata": {
        "id": "QW73qiKMtxE1"
      },
      "execution_count": 1,
      "outputs": []
    }
  ]
}