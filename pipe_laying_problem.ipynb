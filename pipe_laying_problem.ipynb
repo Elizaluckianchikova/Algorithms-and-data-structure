{
  "nbformat": 4,
  "nbformat_minor": 0,
  "metadata": {
    "colab": {
      "provenance": [],
      "authorship_tag": "ABX9TyPXCu2CLPfDQ9VdIfK0yTup",
      "include_colab_link": true
    },
    "kernelspec": {
      "name": "python3",
      "display_name": "Python 3"
    },
    "language_info": {
      "name": "python"
    }
  },
  "cells": [
    {
      "cell_type": "markdown",
      "metadata": {
        "id": "view-in-github",
        "colab_type": "text"
      },
      "source": [
        "<a href=\"https://colab.research.google.com/github/Elizaluckianchikova/Algorithms-and-data-structure/blob/main/pipe_laying_problem.ipynb\" target=\"_parent\"><img src=\"https://colab.research.google.com/assets/colab-badge.svg\" alt=\"Open In Colab\"/></a>"
      ]
    },
    {
      "cell_type": "markdown",
      "source": [
        "**Задача об укладке труб**\n",
        "\n",
        "Задача об укладке труб (англ. pipe-laying problem) - это задача комбинаторной оптимизации, возникающая в нефтегазовом секторе и связанная с укладкой трубопроводов на морском дне. Задача состоит в том, чтобы найти оптимальный способ укладки труб, который минимизирует затраты на их укладку и обеспечивает безопасность и эффективность работы трубопровода.\n",
        "\n",
        "Существует несколько подходов к решению этой задачи, включая методы линейного программирования, генетические алгоритмы и метаэвристические алгоритмы. Одним из наиболее популярных методов является метод ветвей и границ, который позволяет найти оптимальное решение задачи за приемлемое время.\n",
        "\n",
        "Для решения задачи об укладке труб на Python можно использовать библиотеки, такие как PuLP или SciPy. Ниже приведен пример решения этой задачи с использованием PuLP:"
      ],
      "metadata": {
        "id": "OyWkgH2zuf1r"
      }
    },
    {
      "cell_type": "code",
      "source": [
        "import pulp\n",
        "\n",
        "def create_model(n_positions, n_pipes, position_costs, pipe_lengths):\n",
        "  # Создаем модель\n",
        "  model = pulp.LpModel(\"PipeLaying\", pulp.LpMaximize)\n",
        "\n",
        "  # Переменные\n",
        "  x_vars = {}\n",
        "  for i in range(n_positions):\n",
        "    x_vars[f\"x_{i}\"] = pulp.LpVariable(f\"x{i}\", 0, 1, \"Integer\")\n",
        "  y_vars = {f\"y_{j}\": pulp.LpVariable(f\"y{j}\", 0, 1, \"Integer\") for j in range(n_pipes)}\n",
        "\n",
        "  # Ограничения\n",
        "  constraints = [\n",
        "    pulp.lpSum([x_vars[f\"x_{j}\"] * pipe_lengths[j] for j in range(n_pipes)]) <= n_positions,  # Ограничение на общую длину труб, которая может быть уложена\n",
        "    # Ограничения на использование труб\n",
        "    y_vars[f\"y_{j}\"] <= x_vars[f\"x_{i}\"]  # Каждая использованная труба должна быть уложена на какой-то позиции\n",
        "    for i in range(n_positions)\n",
        "    for j in range(n_pipes)\n",
        "  ]\n",
        "\n",
        "  # Функция цели\n",
        "  objective = pulp.lpSum([position_costs[i] * x_vars[f\"x_{i}\"] for i in range(n_positions)])  # Максимизируем общую стоимость решения\n",
        "\n",
        "  # Добавляем переменные, ограничения и функцию цели в модель\n",
        "  for var in x_vars.values():\n",
        "    model.addVariable(var)\n",
        "  for var in y_vars.values():\n",
        "    model.addVariable(var)\n",
        "  for constraint in constraints:\n",
        "    model.addConstraint(constraint)\n",
        "  model.setObjective(objective)\n",
        "\n",
        "  return model\n",
        "\n",
        "# Пример использования\n",
        "n_positions = 5\n",
        "n_pipes = 3\n",
        "position_costs = [1, 2, 3, 4, 5]\n",
        "pipe_lengths = [2, 3, 4]\n",
        "\n",
        "model = create_model(n_positions, n_pipes, position_costs, pipe_lengths)\n",
        "model.solve()\n",
        "\n",
        "print(\"Результат:\")\n",
        "for var in model.variables():\n",
        "  print(var, \"=\", var.varValue)"
      ],
      "metadata": {
        "id": "FROdsLyWus4b"
      },
      "execution_count": null,
      "outputs": []
    }
  ]
}