{
  "nbformat": 4,
  "nbformat_minor": 0,
  "metadata": {
    "colab": {
      "provenance": [],
      "authorship_tag": "ABX9TyM1YMI4ZBsCxgwMdn8mYsT3",
      "include_colab_link": true
    },
    "kernelspec": {
      "name": "python3",
      "display_name": "Python 3"
    },
    "language_info": {
      "name": "python"
    }
  },
  "cells": [
    {
      "cell_type": "markdown",
      "metadata": {
        "id": "view-in-github",
        "colab_type": "text"
      },
      "source": [
        "<a href=\"https://colab.research.google.com/github/Elizaluckianchikova/Algorithms-and-data-structure/blob/main/Genetic_algorhythm.ipynb\" target=\"_parent\"><img src=\"https://colab.research.google.com/assets/colab-badge.svg\" alt=\"Open In Colab\"/></a>"
      ]
    },
    {
      "cell_type": "markdown",
      "source": [
        "**Генетический алгоритм**\n",
        "\n",
        "Генетический алгоритм (ГА) - это эвристический метод оптимизации, вдохновленный процессами естественного отбора и генетики. Он использует механизмы отбора, скрещивания и мутации для поиска оптимального решения задачи оптимизации.\n",
        "\n",
        "Основные компоненты генетического алгоритма:\n",
        "1. Популяция: набор индивидуумов (решений), представляющих потенциальные кандидаты на оптимальное решение.\n",
        "2. Функция приспособленности (fitness function): оценивает качество каждого индивидуума в популяции.\n",
        "3. Отбор: выбор лучших индивидуумов для скрещивания и создания следующего поколения.\n",
        "4. Скрещивание: комбинирование генетического материала от родителей для создания потомства.\n",
        "5. Мутация: случайные изменения в генетическом материале, чтобы обеспечить разнообразие в популяции.\n",
        "6. Эволюция: повторение процесса отбора, скрещивания и мутации для создания новых поколений.\n",
        "\n",
        "Генетический алгоритм широко применяется в различных областях, таких как оптимизация параметров, машинное обучение, распределение ресурсов, планирование и другие задачи, где требуется поиск оптимального решения в большом пространстве возможных вариантов."
      ],
      "metadata": {
        "id": "oCSc6vdvk7K0"
      }
    },
    {
      "cell_type": "code",
      "source": [
        "import random\n",
        "\n",
        "# Функция, которую мы хотим оптимизировать (может быть любой другой функцией)\n",
        "def fitness_function(x):\n",
        "    return x ** 2 - 3 * x + 4\n",
        "\n",
        "# Создание начальной популяции\n",
        "def create_population(size, min_val, max_val):\n",
        "    return [random.uniform(min_val, max_val) for _ in range(size)]\n",
        "\n",
        "# Оценка приспособленности каждого индивидуума в популяции\n",
        "def calculate_fitness(population):\n",
        "    return [fitness_function(x) for x in population]\n",
        "\n",
        "# Выбор лучших индивидуумов для скрещивания\n",
        "def selection(population, fitness_scores, num_parents):\n",
        "    selected_parents = []\n",
        "    for _ in range(num_parents):\n",
        "        max_index = fitness_scores.index(max(fitness_scores))\n",
        "        selected_parents.append(population[max_index])\n",
        "        fitness_scores[max_index] = -999999  # Чтобы не выбирать одного и того же родителя дважды\n",
        "    return selected_parents\n",
        "\n",
        "# Скрещивание родителей для создания потомства\n",
        "def crossover(parents, num_offspring):\n",
        "    offspring = []\n",
        "    for _ in range(num_offspring):\n",
        "        crossover_point = random.randint(1, len(parents[0])-1)\n",
        "        parent1_index = random.randint(0, len(parents)-1)\n",
        "        parent2_index = random.randint(0, len(parents)-1)\n",
        "        offspring.append(parents[parent1_index][:crossover_point] + parents[parent2_index][crossover_point:])\n",
        "    return offspring\n",
        "\n",
        "# Мутация потомства\n",
        "def mutation(offspring, mutation_rate):\n",
        "    for i in range(len(offspring)):\n",
        "        if random.random() < mutation_rate:\n",
        "            mutation_point = random.randint(0, len(offspring[i])-1)\n",
        "            offspring[i] = offspring[i][:mutation_point] + chr(random.randint(32, 126)) + offspring[i][mutation_point+1:]\n",
        "    return offspring\n",
        "\n",
        "# Генетический алгоритм\n",
        "def genetic_algorithm(num_generations, population_size, min_val, max_val):\n",
        "    population = create_population(population_size, min_val, max_val)\n",
        "    for _ in range(num_generations):\n",
        "        fitness_scores = calculate_fitness(population)\n",
        "        parents = selection(population, fitness_scores, 2)\n",
        "        offspring = crossover(parents, population_size - 2)\n",
        "        offspring = mutation(offspring, 0.1)\n",
        "        population = parents + offspring\n",
        "    best_solution = population[fitness_scores.index(max(fitness_scores))]\n",
        "    return best_solution\n",
        "\n",
        "# Пример использования генетического алгоритма для оптимизации функции\n",
        "best_solution = genetic_algorithm(100, 20, -10, 10)\n",
        "print(\"Best solution:\", best_solution)\n",
        "print(\"Fitness:\", fitness_function(best_solution))\n"
      ],
      "metadata": {
        "id": "HBMO8cbhlcF3"
      },
      "execution_count": null,
      "outputs": []
    }
  ]
}