{
  "nbformat": 4,
  "nbformat_minor": 0,
  "metadata": {
    "colab": {
      "provenance": [],
      "authorship_tag": "ABX9TyOplIcf+T/6LgRDDM4ivxn6",
      "include_colab_link": true
    },
    "kernelspec": {
      "name": "python3",
      "display_name": "Python 3"
    },
    "language_info": {
      "name": "python"
    }
  },
  "cells": [
    {
      "cell_type": "markdown",
      "metadata": {
        "id": "view-in-github",
        "colab_type": "text"
      },
      "source": [
        "<a href=\"https://colab.research.google.com/github/Elizaluckianchikova/Algorithms-and-data-structure/blob/main/Hw1_algoryth%26SD.ipynb\" target=\"_parent\"><img src=\"https://colab.research.google.com/assets/colab-badge.svg\" alt=\"Open In Colab\"/></a>"
      ]
    },
    {
      "cell_type": "markdown",
      "source": [
        "**Задача 1**\n",
        "\n",
        "Написать класс, реализующий двунаправленный список. Для этого класса реализовать методы добавления элемента в конец, вывода элементов на печать, получение i-го элемента, вставки элемента в i-ую позицию python"
      ],
      "metadata": {
        "id": "h6xiCKsKQyFx"
      }
    },
    {
      "cell_type": "code",
      "source": [
        "class Node:\n",
        "    def __init__(self, data=None, next=None, prev=None):\n",
        "        self.data = data\n",
        "        self.next = next\n",
        "        self.prev = prev\n",
        "\n",
        "\n",
        "class LinkedList:\n",
        "    def __init__(self):\n",
        "        self.head = None\n",
        "        self.tail = None\n",
        "        self.size = 0\n",
        "\n",
        "    def print_list(self):\n",
        "        node = self.head\n",
        "        while node:\n",
        "            print(node.data)\n",
        "            node = node.next\n",
        "\n",
        "    def append(self, data):\n",
        "        new_node = Node(data)\n",
        "        if self.size == 0:\n",
        "            self.head = new_node\n",
        "            self.tail = new_node\n",
        "        else:\n",
        "            self.tail.next = new_node\n",
        "            new_node.prev = self.tail\n",
        "            self.tail = new_node\n",
        "        self.size += 1\n",
        "\n",
        "    def insert(self, position, data):\n",
        "        if position < 1 or position > len(self):\n",
        "            return 'Invalid index'\n",
        "\n"
      ],
      "metadata": {
        "id": "1oT_etI1Rh20"
      },
      "execution_count": null,
      "outputs": []
    },
    {
      "cell_type": "markdown",
      "source": [
        "**Задача 2**\n",
        "\n",
        "Написать класс, реализующий стек (это то, что похоже на стопку книг). Реализовать методы добавления элемента в стек, получения значения последнего элемента, удаления последнего элемента"
      ],
      "metadata": {
        "id": "jP-kzOY6V_7R"
      }
    },
    {
      "cell_type": "code",
      "source": [
        "class Stack:\n",
        "     def __init__(self):\n",
        "          self.items = []\n",
        "\n",
        "     def push(self, item):\n",
        "          self.items.append(item)\n",
        "\n",
        "     def pop(self):\n",
        "          if len(self.items) == 0:\n",
        "               return 'Error: Stack is empty'\n",
        "          else:\n",
        "               item = self.items.pop()\n",
        "               return item\n",
        "\n",
        "     def peek(self):\n",
        "          return self.items[-1]\n",
        "\n",
        "stack = Stack()\n",
        "\n",
        "# test the methods\n",
        "stack.push(1)\n",
        "stack.push(2)\n",
        "stack.push(3)\n",
        "print('The last pushed value is: ', stack.peek())\n",
        "print('Removing the last pushed value: ', stack.pop())"
      ],
      "metadata": {
        "colab": {
          "base_uri": "https://localhost:8080/"
        },
        "id": "UNPAvfYEWQAC",
        "outputId": "83f12e9d-b997-45e6-f534-cfaeb73e4dce"
      },
      "execution_count": null,
      "outputs": [
        {
          "output_type": "stream",
          "name": "stdout",
          "text": [
            "The last pushed value is:  3\n",
            "Removing the last pushed value:  3\n"
          ]
        }
      ]
    },
    {
      "cell_type": "markdown",
      "source": [
        "**Задача 3**\n",
        "\n",
        "Написать класс, реализующий очередь (это то, что похоже на обычную очередь). Реализовать методы добавления элемента в очередь, получения значения первого элемента, удаления первого элемента"
      ],
      "metadata": {
        "id": "lGH7UX2pWgfy"
      }
    },
    {
      "cell_type": "code",
      "source": [
        "class Queue:\n",
        "    def __init__(self):\n",
        "        self.items = []\n",
        "\n",
        "    def enqueue(self, value):\n",
        "        self.items.append(value)\n",
        "\n",
        "    def dequeue(self):\n",
        "        if len(self.items) == 0:\n",
        "            return 'Error: Queue is empty'\n",
        "        else:\n",
        "            value = self.items[0]\n",
        "            self.items[0] = None  # to avoid 'next' pointing to None\n",
        "            return value\n",
        "\n",
        "queue = Queue()\n",
        "#test the method\n",
        "queue.enqueue(1)\n",
        "queue.enqueue(2)\n",
        "queue.enqueue(3)\n",
        "print(\"The first element is:\", queue.dequeue())"
      ],
      "metadata": {
        "id": "FhyNll5_Wyu0"
      },
      "execution_count": null,
      "outputs": []
    },
    {
      "cell_type": "markdown",
      "source": [
        "**Рекурсия**\n",
        "\n",
        "**Рекурсивная функция** — это та, которая вызывает сама себя."
      ],
      "metadata": {
        "id": "pgFYJgnYbsFN"
      }
    },
    {
      "cell_type": "code",
      "source": [
        "def factorial(n):\n",
        "  if n == 0:\n",
        "    return 1\n",
        "  else:\n",
        "    return n * factorial(n - 1)\n",
        "\n",
        "num = int(input())\n",
        "\n",
        "print(factorial(num))"
      ],
      "metadata": {
        "colab": {
          "base_uri": "https://localhost:8080/"
        },
        "id": "Ad4fA3U4b4u7",
        "outputId": "45a3218b-1474-45ad-f5b0-4bf1638220d9"
      },
      "execution_count": null,
      "outputs": [
        {
          "output_type": "stream",
          "name": "stdout",
          "text": [
            "7\n",
            "5040\n"
          ]
        }
      ]
    },
    {
      "cell_type": "code",
      "source": [
        "import sys\n",
        "sys.getrecursionlimit()"
      ],
      "metadata": {
        "colab": {
          "base_uri": "https://localhost:8080/"
        },
        "id": "Qau5Nk8rcU6p",
        "outputId": "4e8a6380-aae8-4f28-b379-b51e6e791d94"
      },
      "execution_count": null,
      "outputs": [
        {
          "output_type": "execute_result",
          "data": {
            "text/plain": [
              "1000"
            ]
          },
          "metadata": {},
          "execution_count": 10
        }
      ]
    },
    {
      "cell_type": "code",
      "source": [
        "\n",
        "def factorial_iterative(num):\n",
        "    factorial = 1\n",
        "    if num < 0:\n",
        "        print(\"Факториал не вычисляется для отрицательных чисел\")\n",
        "    else:\n",
        "        for i in range (1, num + 1):\n",
        "            factorial = factorial*i\n",
        "        print(f\"Факториал {num} это {factorial}\")"
      ],
      "metadata": {
        "id": "w2L_o_SeccML"
      },
      "execution_count": null,
      "outputs": []
    },
    {
      "cell_type": "markdown",
      "source": [
        "**Ханойская башня**\n",
        "\n",
        "Задача состоит в том, чтобы перенести пирамиду из восьми колец за наименьшее число ходов на другой стержень. За один раз разрешается переносить только одно кольцо, причём нельзя класть большее кольцо на меньшее.\n",
        "\n",
        "*Я специально сделала 3 реализации своего решения , чтобы посмотреть, как изменится входные и выходные данные,  и поиграть с алгоритмом ."
      ],
      "metadata": {
        "id": "Jki4SyjBY1SY"
      }
    },
    {
      "cell_type": "code",
      "source": [
        "#solution 1\n",
        "\n",
        "\n",
        "def solution(n):\n",
        "    moves = 2**n - 1\n",
        "    for i in range(moves):\n",
        "        print(bin(i)[2:].zfill(n), end=\" \")\n",
        "    print()\n",
        "\n",
        "if __name__ == \"__main__\":\n",
        "    n = int(input().strip())\n",
        "    solution(n)"
      ],
      "metadata": {
        "colab": {
          "base_uri": "https://localhost:8080/"
        },
        "id": "ZQevPBetYFoq",
        "outputId": "166cbc35-086d-436a-de75-1de215db6714"
      },
      "execution_count": null,
      "outputs": [
        {
          "output_type": "stream",
          "name": "stdout",
          "text": [
            "1\n",
            "0 \n"
          ]
        }
      ]
    },
    {
      "cell_type": "code",
      "source": [
        "#solution 2\n",
        "def f(n, x, y):\n",
        "    if n > 0:\n",
        "        f(n - 1, x, 6 - x - y)\n",
        "        print(n, x, y)\n",
        "        f(n - 1, 6 - x - y, y)\n",
        "\n",
        "\n",
        "def sortF(n, x, y):\n",
        "    if n > 0:\n",
        "        f(n - 1, x, 6 - x - y)\n",
        "        print(n, x, y)\n",
        "        if n > 3:\n",
        "            f(n - 3, 6 - x - y, x)\n",
        "        if n > 2:\n",
        "            print(n - 2, 6 - x - y, y)\n",
        "        if n > 3:\n",
        "            sortF(n - 3, x, 6 - x - y)\n",
        "\n",
        "\n",
        "n = int(input())\n",
        "if n % 2 == 0:\n",
        "    sortF(n, 1, 3)\n",
        "else:\n",
        "    sortF(n, 1, 2)"
      ],
      "metadata": {
        "colab": {
          "base_uri": "https://localhost:8080/"
        },
        "id": "U73nFY7qZfC2",
        "outputId": "3d2f1248-0364-4e83-ead8-b266da8a93b7"
      },
      "execution_count": null,
      "outputs": [
        {
          "output_type": "stream",
          "name": "stdout",
          "text": [
            "1\n",
            "1 1 2\n"
          ]
        }
      ]
    },
    {
      "cell_type": "code",
      "source": [
        "#solution 3\n",
        "def hanoi(a, b, c, n):\n",
        "    if n == 1:  # рекурсивное конечное условие\n",
        "        print(a, '->', c)\n",
        "    else:\n",
        "        hanoi(a, c, b, n - 1)\n",
        "        print(a, '->', c)\n",
        "        hanoi(b, a, c, n - 1)\n",
        "\n",
        "hanoi('A', 'B', 'C', 5)"
      ],
      "metadata": {
        "colab": {
          "base_uri": "https://localhost:8080/"
        },
        "id": "pj-UWrW9adUt",
        "outputId": "d8110c86-ef1b-403e-e39b-dc36f979a4bb"
      },
      "execution_count": null,
      "outputs": [
        {
          "output_type": "stream",
          "name": "stdout",
          "text": [
            "A -> C\n",
            "A -> B\n",
            "C -> B\n",
            "A -> C\n",
            "B -> A\n",
            "B -> C\n",
            "A -> C\n",
            "A -> B\n",
            "C -> B\n",
            "C -> A\n",
            "B -> A\n",
            "C -> B\n",
            "A -> C\n",
            "A -> B\n",
            "C -> B\n",
            "A -> C\n",
            "B -> A\n",
            "B -> C\n",
            "A -> C\n",
            "B -> A\n",
            "C -> B\n",
            "C -> A\n",
            "B -> A\n",
            "B -> C\n",
            "A -> C\n",
            "A -> B\n",
            "C -> B\n",
            "A -> C\n",
            "B -> A\n",
            "B -> C\n",
            "A -> C\n"
          ]
        }
      ]
    }
  ]
}